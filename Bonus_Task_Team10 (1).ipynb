{
  "cells": [
    {
      "cell_type": "markdown",
      "source": [
        "# **Bonus Task:**\n",
        "\n",
        "*References*:\n",
        "- https://github.com/SMorettini/CNNs-on-CHB-MIT\n",
        "- https://github.com/patschris/SeizureDetection\n",
        "- Thesis referenced: https://pergamos.lib.uoa.gr/uoa/dl/object/2932363"
      ],
      "metadata": {
        "id": "4R2CgkV4FfJ8"
      }
    },
    {
      "cell_type": "markdown",
      "source": [
        "## Data Preprocessing"
      ],
      "metadata": {
        "id": "7-PkNiHjFm1-"
      }
    },
    {
      "cell_type": "code",
      "execution_count": null,
      "metadata": {
        "colab": {
          "base_uri": "https://localhost:8080/"
        },
        "id": "7v0n2TrOQDwX",
        "outputId": "b6a13fb8-2a6e-4614-9b04-98fa04125289"
      },
      "outputs": [
        {
          "output_type": "stream",
          "name": "stdout",
          "text": [
            "Looking in indexes: https://pypi.org/simple, https://us-python.pkg.dev/colab-wheels/public/simple/\n",
            "Requirement already satisfied: pyedflib in /usr/local/lib/python3.8/dist-packages (0.1.30)\n",
            "Requirement already satisfied: numpy>=1.9.1 in /usr/local/lib/python3.8/dist-packages (from pyedflib) (1.21.6)\n"
          ]
        }
      ],
      "source": [
        "!pip install pyedflib"
      ]
    },
    {
      "cell_type": "code",
      "execution_count": null,
      "metadata": {
        "id": "E0djoeF1QTB9"
      },
      "outputs": [],
      "source": [
        "import numpy as np\n",
        "import pandas as pd\n",
        "from scipy import signal\n",
        "import matplotlib.pyplot as plt\n",
        "from pathlib import Path\n",
        "from pyedflib import EdfReader\n",
        "from tqdm.notebook import tqdm\n",
        "from os import chdir, getcwd, listdir, mkdir, path"
      ]
    },
    {
      "cell_type": "code",
      "execution_count": null,
      "metadata": {
        "id": "mB-czzqlQT_8",
        "colab": {
          "base_uri": "https://localhost:8080/"
        },
        "outputId": "b08f9e45-1e52-4887-9e3f-79adf800db14"
      },
      "outputs": [
        {
          "output_type": "stream",
          "name": "stdout",
          "text": [
            "Drive already mounted at /content/drive; to attempt to forcibly remount, call drive.mount(\"/content/drive\", force_remount=True).\n"
          ]
        }
      ],
      "source": [
        "from google.colab import drive\n",
        "drive.mount('/content/drive')"
      ]
    },
    {
      "cell_type": "code",
      "execution_count": null,
      "metadata": {
        "colab": {
          "base_uri": "https://localhost:8080/"
        },
        "id": "kKPaVenFTL60",
        "outputId": "45cb0483-e3e0-48dc-b54b-36d95f70f211"
      },
      "outputs": [
        {
          "output_type": "stream",
          "name": "stdout",
          "text": [
            "/content/drive/.shortcut-targets-by-id/1UwYBWUVUjop3jfFcjbVHNQRtkFuMPbQy/dsp_dataset/DSP Bonus Data/dl\n"
          ]
        }
      ],
      "source": [
        "%cd '/content/drive/MyDrive/dsp_dataset/DSP Bonus Data/dl'"
      ]
    },
    {
      "cell_type": "code",
      "execution_count": null,
      "metadata": {
        "id": "8QM1gONCRMUN"
      },
      "outputs": [],
      "source": [
        "#!wget -r -N -c -np \"https://physionet.org/files/chbmit/1.0.0/chb19/\""
      ]
    },
    {
      "cell_type": "markdown",
      "source": [
        "## EDF Reading:"
      ],
      "metadata": {
        "id": "_ySl5w1QsF4a"
      }
    },
    {
      "cell_type": "code",
      "execution_count": null,
      "metadata": {
        "id": "6ydBm1mZQW1k"
      },
      "outputs": [],
      "source": [
        "'''\n",
        "https://pyedflib.readthedocs.io/en/latest/\n",
        "'''\n",
        "def readEdfFile(pathToFile, channels):\n",
        "    f = EdfReader(pathToFile)\n",
        "    n = f.signals_in_file\n",
        "    signal_labels = f.getSignalLabels()\n",
        "    signal_labels.append('seizure')\n",
        "    sigbufs = np.zeros((f.getNSamples()[0],n+1))\n",
        "    for i in np.arange(n): sigbufs[:,i] = f.readSignal(i)\n",
        "    sigbufs[:, n]= 0.0\n",
        "    df =  pd.DataFrame(data = sigbufs, columns = signal_labels)\n",
        "    df = df.loc[:, channels]\n",
        "    df = df.loc[:, ~df.columns.duplicated()]\n",
        "    f._close()\n",
        "    return df.values"
      ]
    },
    {
      "cell_type": "code",
      "source": [
        "'''\n",
        "https://www.mathworks.com/matlabcentral/answers/225716-how-i-can-read-chb01_03-edf-seizures-file-from-chb-mit-database-in-matlab-as-i-am-using-this-file-f\n",
        "Returns start time and length of the seizure\n",
        "'''\n",
        "def get_seizure_period(file_location):\n",
        "    bytes_array = []\n",
        "    for b in Path(file_location).read_bytes(): bytes_array.append(b)\n",
        "    return int(str(bin(bytes_array[38]))[2:] + str(bin(bytes_array[41]))[2:],2), bytes_array[49]"
      ],
      "metadata": {
        "id": "ZcTJ7nfg7fzA"
      },
      "execution_count": null,
      "outputs": []
    },
    {
      "cell_type": "code",
      "source": [
        "'''\n",
        "List of numpy array, each position contains a patient's array of data\n",
        "'''\n",
        "\n",
        "def read_and_store_data (dataset_folder, sample_rate, channels) :\n",
        "    \n",
        "    initial_path = getcwd()\n",
        "    chdir(dataset_folder)\n",
        "    \n",
        "    patients = [d for d in listdir() if path.isdir(d) and d.startswith('chb')]\n",
        "    patients.sort()\n",
        "    arr = np.array([], dtype=np.float64).reshape(0, len(channels))\n",
        "    seizurecount = 0\n",
        "    for p in patients:\n",
        "        chdir(p)\n",
        "\n",
        "        print('Reading data of patient', p)\n",
        "        \n",
        "        # for each patient specify the edf files and the seizure files\n",
        "        edf = [f for f in listdir() if path.isfile(f) and f.endswith('edf')]\n",
        "        edf.sort()\n",
        "        seizures = [f for f in listdir() if path.isfile(f) and f.endswith('seizures')]\n",
        "        seizures.sort()\n",
        "        for e in tqdm(edf):\n",
        "            sigbufs = readEdfFile(e, channels)\n",
        "            if seizures and seizures[0].startswith(e):\n",
        "                (start, length) = get_seizure_period(seizures[0])\n",
        "                for i in range(start * sample_rate, (start+length)*sample_rate + 1):\n",
        "                    sigbufs[i][len(channels)-1] = 1.0\n",
        "                    seizurecount = seizurecount +1\n",
        "                seizures.pop(0)\n",
        "        arr = np.concatenate([arr, sigbufs])\n",
        "        chdir('..')\n",
        "    chdir(initial_path)\n",
        "    print(seizurecount)\n",
        "    df = pd.DataFrame(arr, columns = channels)\n",
        "    df.reset_index(drop = True, inplace = True)\n",
        "    return df"
      ],
      "metadata": {
        "id": "eTUl57tr7js-"
      },
      "execution_count": null,
      "outputs": []
    },
    {
      "cell_type": "code",
      "source": [
        "channels = ['FP1-F7', 'F7-T7','T7-P7', 'P7-O1', 'FP1-F3', 'F3-C3', 'C3-P3', 'P3-O1', 'FP2-F4', 'F4-C4', 'C4-P4', 'P4-O2', 'FP2-F8', 'F8-T8', 'T8-P8', 'P8-O2', 'FZ-CZ', 'CZ-PZ', 'seizure']\n"
      ],
      "metadata": {
        "id": "UbeFbmSkEMb4"
      },
      "execution_count": null,
      "outputs": []
    },
    {
      "cell_type": "code",
      "source": [
        "readEdf = False\n",
        "if readEdf:\n",
        "    DF=read_and_store_data('/content/drive/MyDrive/dsp_dataset/DSP Bonus Data/dl', 256,channels)\n",
        "    DF.to_csv('chb.csv', index = False)\n",
        "else:\n",
        "    print('Reading data from', 'chb.csv')\n",
        "    DF = pd.read_csv('chb.csv', delimiter = ',', header = 0)"
      ],
      "metadata": {
        "colab": {
          "base_uri": "https://localhost:8080/"
        },
        "id": "SBzdLmujHdk5",
        "outputId": "0df41695-1dc9-4174-ff91-60dff1b0b316"
      },
      "execution_count": null,
      "outputs": [
        {
          "output_type": "stream",
          "name": "stdout",
          "text": [
            "Reading data from chb.csv\n"
          ]
        }
      ]
    },
    {
      "cell_type": "code",
      "source": [
        "DF.shape, DF.columns"
      ],
      "metadata": {
        "colab": {
          "base_uri": "https://localhost:8080/"
        },
        "id": "rc8DAiByHOVC",
        "outputId": "3d614f8f-26e0-434d-baf3-388f90414abd"
      },
      "execution_count": null,
      "outputs": [
        {
          "output_type": "execute_result",
          "data": {
            "text/plain": [
              "((3618304, 19),\n",
              " Index(['FP1-F7', 'F7-T7', 'T7-P7', 'P7-O1', 'FP1-F3', 'F3-C3', 'C3-P3',\n",
              "        'P3-O1', 'FP2-F4', 'F4-C4', 'C4-P4', 'P4-O2', 'FP2-F8', 'F8-T8',\n",
              "        'T8-P8', 'P8-O2', 'FZ-CZ', 'CZ-PZ', 'seizure'],\n",
              "       dtype='object'))"
            ]
          },
          "metadata": {},
          "execution_count": 11
        }
      ]
    },
    {
      "cell_type": "code",
      "source": [
        "DF.head(6)"
      ],
      "metadata": {
        "colab": {
          "base_uri": "https://localhost:8080/",
          "height": 301
        },
        "id": "Tg3vkIlWFCcA",
        "outputId": "0f87429b-f221-4319-86ed-c0e91bd386a6"
      },
      "execution_count": null,
      "outputs": [
        {
          "output_type": "execute_result",
          "data": {
            "text/plain": [
              "      FP1-F7       F7-T7      T7-P7      P7-O1     FP1-F3      F3-C3  \\\n",
              "0  62.710623 -180.317460  97.094017 -97.094017  22.075702 -11.526252   \n",
              "1   0.195360    0.195360   0.195360   0.195360   0.195360   0.195360   \n",
              "2   0.195360    0.195360   0.195360   0.195360   0.195360   0.195360   \n",
              "3   0.195360    0.586081   0.976801   0.195360   0.195360   0.195360   \n",
              "4   0.586081   -0.586081   0.586081   0.195360  -0.195360   0.195360   \n",
              "5   0.195360   -1.758242  -2.539683   0.586081   0.195360   0.195360   \n",
              "\n",
              "       C3-P3      P3-O1      FP2-F4      F4-C4      C4-P4       P4-O2  \\\n",
              "0 -28.717949 -99.438339  170.940171 -80.293040  24.810745 -105.689866   \n",
              "1   0.195360   0.195360    0.195360   0.195360   0.195360    0.195360   \n",
              "2   0.195360   0.195360    0.976801  -0.586081   0.195360    0.195360   \n",
              "3   0.976801   0.195360    6.056166  -5.665446   0.195360    0.195360   \n",
              "4   0.195360   0.586081    0.195360   0.586081   0.195360    0.586081   \n",
              "5  -3.321123   0.195360  -25.201465  26.373626  -1.367521   -0.195360   \n",
              "\n",
              "      FP2-F8      F8-T8      T8-P8      P8-O2       FZ-CZ      CZ-PZ  seizure  \n",
              "0  -1.367521 -42.783883  35.360195  18.559219  791.013431  43.565324      0.0  \n",
              "1   0.195360   0.195360   0.195360   0.195360   -0.195360   0.195360      0.0  \n",
              "2   0.195360   0.195360   0.195360   0.195360    2.148962   1.367521      0.0  \n",
              "3   3.321123  -2.930403  -0.195360   0.586081   16.605617   4.493284      0.0  \n",
              "4   1.758242  -1.367521   0.976801   0.586081    5.665446  -4.493284      0.0  \n",
              "5 -14.652015  13.870574   2.148962  -2.539683  -71.306471 -18.559219      0.0  "
            ],
            "text/html": [
              "\n",
              "  <div id=\"df-1b5c9c74-ab7b-4903-b4d4-a1f40a6dc845\">\n",
              "    <div class=\"colab-df-container\">\n",
              "      <div>\n",
              "<style scoped>\n",
              "    .dataframe tbody tr th:only-of-type {\n",
              "        vertical-align: middle;\n",
              "    }\n",
              "\n",
              "    .dataframe tbody tr th {\n",
              "        vertical-align: top;\n",
              "    }\n",
              "\n",
              "    .dataframe thead th {\n",
              "        text-align: right;\n",
              "    }\n",
              "</style>\n",
              "<table border=\"1\" class=\"dataframe\">\n",
              "  <thead>\n",
              "    <tr style=\"text-align: right;\">\n",
              "      <th></th>\n",
              "      <th>FP1-F7</th>\n",
              "      <th>F7-T7</th>\n",
              "      <th>T7-P7</th>\n",
              "      <th>P7-O1</th>\n",
              "      <th>FP1-F3</th>\n",
              "      <th>F3-C3</th>\n",
              "      <th>C3-P3</th>\n",
              "      <th>P3-O1</th>\n",
              "      <th>FP2-F4</th>\n",
              "      <th>F4-C4</th>\n",
              "      <th>C4-P4</th>\n",
              "      <th>P4-O2</th>\n",
              "      <th>FP2-F8</th>\n",
              "      <th>F8-T8</th>\n",
              "      <th>T8-P8</th>\n",
              "      <th>P8-O2</th>\n",
              "      <th>FZ-CZ</th>\n",
              "      <th>CZ-PZ</th>\n",
              "      <th>seizure</th>\n",
              "    </tr>\n",
              "  </thead>\n",
              "  <tbody>\n",
              "    <tr>\n",
              "      <th>0</th>\n",
              "      <td>62.710623</td>\n",
              "      <td>-180.317460</td>\n",
              "      <td>97.094017</td>\n",
              "      <td>-97.094017</td>\n",
              "      <td>22.075702</td>\n",
              "      <td>-11.526252</td>\n",
              "      <td>-28.717949</td>\n",
              "      <td>-99.438339</td>\n",
              "      <td>170.940171</td>\n",
              "      <td>-80.293040</td>\n",
              "      <td>24.810745</td>\n",
              "      <td>-105.689866</td>\n",
              "      <td>-1.367521</td>\n",
              "      <td>-42.783883</td>\n",
              "      <td>35.360195</td>\n",
              "      <td>18.559219</td>\n",
              "      <td>791.013431</td>\n",
              "      <td>43.565324</td>\n",
              "      <td>0.0</td>\n",
              "    </tr>\n",
              "    <tr>\n",
              "      <th>1</th>\n",
              "      <td>0.195360</td>\n",
              "      <td>0.195360</td>\n",
              "      <td>0.195360</td>\n",
              "      <td>0.195360</td>\n",
              "      <td>0.195360</td>\n",
              "      <td>0.195360</td>\n",
              "      <td>0.195360</td>\n",
              "      <td>0.195360</td>\n",
              "      <td>0.195360</td>\n",
              "      <td>0.195360</td>\n",
              "      <td>0.195360</td>\n",
              "      <td>0.195360</td>\n",
              "      <td>0.195360</td>\n",
              "      <td>0.195360</td>\n",
              "      <td>0.195360</td>\n",
              "      <td>0.195360</td>\n",
              "      <td>-0.195360</td>\n",
              "      <td>0.195360</td>\n",
              "      <td>0.0</td>\n",
              "    </tr>\n",
              "    <tr>\n",
              "      <th>2</th>\n",
              "      <td>0.195360</td>\n",
              "      <td>0.195360</td>\n",
              "      <td>0.195360</td>\n",
              "      <td>0.195360</td>\n",
              "      <td>0.195360</td>\n",
              "      <td>0.195360</td>\n",
              "      <td>0.195360</td>\n",
              "      <td>0.195360</td>\n",
              "      <td>0.976801</td>\n",
              "      <td>-0.586081</td>\n",
              "      <td>0.195360</td>\n",
              "      <td>0.195360</td>\n",
              "      <td>0.195360</td>\n",
              "      <td>0.195360</td>\n",
              "      <td>0.195360</td>\n",
              "      <td>0.195360</td>\n",
              "      <td>2.148962</td>\n",
              "      <td>1.367521</td>\n",
              "      <td>0.0</td>\n",
              "    </tr>\n",
              "    <tr>\n",
              "      <th>3</th>\n",
              "      <td>0.195360</td>\n",
              "      <td>0.586081</td>\n",
              "      <td>0.976801</td>\n",
              "      <td>0.195360</td>\n",
              "      <td>0.195360</td>\n",
              "      <td>0.195360</td>\n",
              "      <td>0.976801</td>\n",
              "      <td>0.195360</td>\n",
              "      <td>6.056166</td>\n",
              "      <td>-5.665446</td>\n",
              "      <td>0.195360</td>\n",
              "      <td>0.195360</td>\n",
              "      <td>3.321123</td>\n",
              "      <td>-2.930403</td>\n",
              "      <td>-0.195360</td>\n",
              "      <td>0.586081</td>\n",
              "      <td>16.605617</td>\n",
              "      <td>4.493284</td>\n",
              "      <td>0.0</td>\n",
              "    </tr>\n",
              "    <tr>\n",
              "      <th>4</th>\n",
              "      <td>0.586081</td>\n",
              "      <td>-0.586081</td>\n",
              "      <td>0.586081</td>\n",
              "      <td>0.195360</td>\n",
              "      <td>-0.195360</td>\n",
              "      <td>0.195360</td>\n",
              "      <td>0.195360</td>\n",
              "      <td>0.586081</td>\n",
              "      <td>0.195360</td>\n",
              "      <td>0.586081</td>\n",
              "      <td>0.195360</td>\n",
              "      <td>0.586081</td>\n",
              "      <td>1.758242</td>\n",
              "      <td>-1.367521</td>\n",
              "      <td>0.976801</td>\n",
              "      <td>0.586081</td>\n",
              "      <td>5.665446</td>\n",
              "      <td>-4.493284</td>\n",
              "      <td>0.0</td>\n",
              "    </tr>\n",
              "    <tr>\n",
              "      <th>5</th>\n",
              "      <td>0.195360</td>\n",
              "      <td>-1.758242</td>\n",
              "      <td>-2.539683</td>\n",
              "      <td>0.586081</td>\n",
              "      <td>0.195360</td>\n",
              "      <td>0.195360</td>\n",
              "      <td>-3.321123</td>\n",
              "      <td>0.195360</td>\n",
              "      <td>-25.201465</td>\n",
              "      <td>26.373626</td>\n",
              "      <td>-1.367521</td>\n",
              "      <td>-0.195360</td>\n",
              "      <td>-14.652015</td>\n",
              "      <td>13.870574</td>\n",
              "      <td>2.148962</td>\n",
              "      <td>-2.539683</td>\n",
              "      <td>-71.306471</td>\n",
              "      <td>-18.559219</td>\n",
              "      <td>0.0</td>\n",
              "    </tr>\n",
              "  </tbody>\n",
              "</table>\n",
              "</div>\n",
              "      <button class=\"colab-df-convert\" onclick=\"convertToInteractive('df-1b5c9c74-ab7b-4903-b4d4-a1f40a6dc845')\"\n",
              "              title=\"Convert this dataframe to an interactive table.\"\n",
              "              style=\"display:none;\">\n",
              "        \n",
              "  <svg xmlns=\"http://www.w3.org/2000/svg\" height=\"24px\"viewBox=\"0 0 24 24\"\n",
              "       width=\"24px\">\n",
              "    <path d=\"M0 0h24v24H0V0z\" fill=\"none\"/>\n",
              "    <path d=\"M18.56 5.44l.94 2.06.94-2.06 2.06-.94-2.06-.94-.94-2.06-.94 2.06-2.06.94zm-11 1L8.5 8.5l.94-2.06 2.06-.94-2.06-.94L8.5 2.5l-.94 2.06-2.06.94zm10 10l.94 2.06.94-2.06 2.06-.94-2.06-.94-.94-2.06-.94 2.06-2.06.94z\"/><path d=\"M17.41 7.96l-1.37-1.37c-.4-.4-.92-.59-1.43-.59-.52 0-1.04.2-1.43.59L10.3 9.45l-7.72 7.72c-.78.78-.78 2.05 0 2.83L4 21.41c.39.39.9.59 1.41.59.51 0 1.02-.2 1.41-.59l7.78-7.78 2.81-2.81c.8-.78.8-2.07 0-2.86zM5.41 20L4 18.59l7.72-7.72 1.47 1.35L5.41 20z\"/>\n",
              "  </svg>\n",
              "      </button>\n",
              "      \n",
              "  <style>\n",
              "    .colab-df-container {\n",
              "      display:flex;\n",
              "      flex-wrap:wrap;\n",
              "      gap: 12px;\n",
              "    }\n",
              "\n",
              "    .colab-df-convert {\n",
              "      background-color: #E8F0FE;\n",
              "      border: none;\n",
              "      border-radius: 50%;\n",
              "      cursor: pointer;\n",
              "      display: none;\n",
              "      fill: #1967D2;\n",
              "      height: 32px;\n",
              "      padding: 0 0 0 0;\n",
              "      width: 32px;\n",
              "    }\n",
              "\n",
              "    .colab-df-convert:hover {\n",
              "      background-color: #E2EBFA;\n",
              "      box-shadow: 0px 1px 2px rgba(60, 64, 67, 0.3), 0px 1px 3px 1px rgba(60, 64, 67, 0.15);\n",
              "      fill: #174EA6;\n",
              "    }\n",
              "\n",
              "    [theme=dark] .colab-df-convert {\n",
              "      background-color: #3B4455;\n",
              "      fill: #D2E3FC;\n",
              "    }\n",
              "\n",
              "    [theme=dark] .colab-df-convert:hover {\n",
              "      background-color: #434B5C;\n",
              "      box-shadow: 0px 1px 3px 1px rgba(0, 0, 0, 0.15);\n",
              "      filter: drop-shadow(0px 1px 2px rgba(0, 0, 0, 0.3));\n",
              "      fill: #FFFFFF;\n",
              "    }\n",
              "  </style>\n",
              "\n",
              "      <script>\n",
              "        const buttonEl =\n",
              "          document.querySelector('#df-1b5c9c74-ab7b-4903-b4d4-a1f40a6dc845 button.colab-df-convert');\n",
              "        buttonEl.style.display =\n",
              "          google.colab.kernel.accessAllowed ? 'block' : 'none';\n",
              "\n",
              "        async function convertToInteractive(key) {\n",
              "          const element = document.querySelector('#df-1b5c9c74-ab7b-4903-b4d4-a1f40a6dc845');\n",
              "          const dataTable =\n",
              "            await google.colab.kernel.invokeFunction('convertToInteractive',\n",
              "                                                     [key], {});\n",
              "          if (!dataTable) return;\n",
              "\n",
              "          const docLinkHtml = 'Like what you see? Visit the ' +\n",
              "            '<a target=\"_blank\" href=https://colab.research.google.com/notebooks/data_table.ipynb>data table notebook</a>'\n",
              "            + ' to learn more about interactive tables.';\n",
              "          element.innerHTML = '';\n",
              "          dataTable['output_type'] = 'display_data';\n",
              "          await google.colab.output.renderOutput(dataTable, element);\n",
              "          const docLink = document.createElement('div');\n",
              "          docLink.innerHTML = docLinkHtml;\n",
              "          element.appendChild(docLink);\n",
              "        }\n",
              "      </script>\n",
              "    </div>\n",
              "  </div>\n",
              "  "
            ]
          },
          "metadata": {},
          "execution_count": 12
        }
      ]
    },
    {
      "cell_type": "markdown",
      "source": [
        "###Trials"
      ],
      "metadata": {
        "id": "DQR17bAhFZcv"
      }
    },
    {
      "cell_type": "code",
      "execution_count": null,
      "metadata": {
        "id": "GIILQzC6QYt-"
      },
      "outputs": [],
      "source": [
        "# seizure_free_record_df1 = readEdfFile(pathToFile='/content/drive/My Drive/dsp_dataset/chb12_32.edf')\n",
        "# seizure_free_record_df2 = readEdfFile(pathToFile='/content/drive/MyDrive/dsp_dataset/DSP Bonus Data/chb12/chb12_35.edf')\n",
        "\n",
        "# seizure_record_df1 = readEdfFile(pathToFile='/content/drive/MyDrive/dsp_dataset/DSP Bonus Data/chb12/chb12_29.edf')\n",
        "# seizure_record_df2 = readEdfFile(pathToFile='/content/drive/MyDrive/dsp_dataset/DSP Bonus Data/chb12/chb12_08.edf')\n"
      ]
    },
    {
      "cell_type": "code",
      "source": [
        "# seizure_free_record_dfs=[seizure_free_record_df1,seizure_free_record_df2]#,seizure_free_record_df3]\n",
        "# seizure_free_record_df=pd.concat(seizure_free_record_dfs)"
      ],
      "metadata": {
        "id": "aaoe6wYCe47-"
      },
      "execution_count": null,
      "outputs": []
    },
    {
      "cell_type": "code",
      "source": [
        "# seizure_record_dfs=[seizure_record_df1 , seizure_record_df2] #, seizure_record_df3]\n",
        "# seizure_record_df=pd.concat(seizure_free_record_dfs)\n",
        "# seizure_record_df['seizure']=seizure_record_df['seizure'].replace(0,1)"
      ],
      "metadata": {
        "id": "abaLHJURyHB9"
      },
      "execution_count": null,
      "outputs": []
    },
    {
      "cell_type": "code",
      "execution_count": null,
      "metadata": {
        "id": "0B7af_pQQbVk"
      },
      "outputs": [],
      "source": [
        " # add index column\n",
        "# seizure_free_record_df['index'] = range(1, len(seizure_free_record_df) + 1)\n",
        "# seizure_record_df['index'] = range(1, len(seizure_record_df) + 1)"
      ]
    },
    {
      "cell_type": "code",
      "source": [
        "# seizure_free_record_df.head(5)"
      ],
      "metadata": {
        "id": "ZnyX1lTpyrAM"
      },
      "execution_count": null,
      "outputs": []
    },
    {
      "cell_type": "code",
      "source": [
        "# desing notch filter\n",
        "samp_freq = 256  # Sample frequency (Hz)\n",
        "notch_freq = 60.0  # Frequency to be removed from signal (Hz)\n",
        "quality_factor = 20.0  # Quality factor\n",
        " \n",
        "# Design a notch filter using signal.iirnotch\n",
        "b_notch, a_notch = signal.iirnotch(notch_freq, quality_factor, samp_freq)\n",
        " \n",
        "# Compute frequency response of the designed filter\n",
        "freq, h = signal.freqz(b_notch, a_notch, fs=samp_freq)\n",
        " \n"
      ],
      "metadata": {
        "id": "Py0z6Dohyrd3"
      },
      "execution_count": null,
      "outputs": []
    },
    {
      "cell_type": "code",
      "source": [
        "def filter_signal(b_notch,a_notch, selected_chanels, patent_record):\n",
        "    # Apply notch filter to the noisy signal using signal.filtfilt\n",
        "    filterd_signals = pd.DataFrame()\n",
        "    n = np.linspace(0, 1, 256) # Generate 256 sample sequence in 1 sec as the fs is 256\n",
        "    for chanel in selected_chanels:\n",
        "        outputSignal = signal.filtfilt(b_notch, a_notch, patent_record[chanel] )\n",
        "        filterd_signals[chanel] = outputSignal\n",
        "        return filterd_signals"
      ],
      "metadata": {
        "id": "g1Owyojezcv6"
      },
      "execution_count": null,
      "outputs": []
    },
    {
      "cell_type": "code",
      "source": [
        "# seizure_free_record_df.columns"
      ],
      "metadata": {
        "id": "0yZbe_M2gpSz"
      },
      "execution_count": null,
      "outputs": []
    },
    {
      "cell_type": "code",
      "source": [
        "# selected_chanels_free=['FP1-F7', 'F7-T7', 'T7-P7', 'P7-O1', 'FP1-F3', 'F3-C3', 'C3-P3',\n",
        "#        'P3-O1', 'FZ-CZ', 'CZ-PZ', 'FP2-F4', 'F4-C4', 'C4-P4',\n",
        "#        'P4-O2', 'FP2-F8', 'F8-T8', 'P7-T7',\n",
        "#        'T7-FT9', 'FT9-FT10', 'FT10-T8']\n",
        "# filter_seizure_free_record_df = filter_signal(b_notch, a_notch, selected_chanels_free, seizure_free_record_df)"
      ],
      "metadata": {
        "id": "nlVOdUHHz11C"
      },
      "execution_count": null,
      "outputs": []
    },
    {
      "cell_type": "code",
      "source": [
        "# seizure_record_df.sample(5)"
      ],
      "metadata": {
        "id": "yETKDkRi7iJx"
      },
      "execution_count": null,
      "outputs": []
    },
    {
      "cell_type": "code",
      "source": [
        "# seizure_record_df.columns"
      ],
      "metadata": {
        "id": "rGe8cNB4z-qT"
      },
      "execution_count": null,
      "outputs": []
    },
    {
      "cell_type": "code",
      "source": [
        "# selected_chanels=['FP1-F7', 'F7-T7', 'T7-P7', 'P7-O1', 'FP1-F3', 'F3-C3', 'C3-P3',\n",
        "#        'P3-O1', 'FZ-CZ', 'CZ-PZ', 'FP2-F4', 'F4-C4', 'C4-P4',\n",
        "#        'P4-O2', 'FP2-F8', 'F8-T8', 'P7-T7',\n",
        "#        'T7-FT9', 'FT9-FT10', 'FT10-T8']\n",
        "\n",
        "# filterd_seizure_record_df = filter_signal(b_notch, a_notch, selected_chanels, seizure_record_df)"
      ],
      "metadata": {
        "id": "zUDhARFaz34c"
      },
      "execution_count": null,
      "outputs": []
    },
    {
      "cell_type": "code",
      "source": [
        "# dfs = [ seizure_free_record_df , seizure_record_df ] \n",
        "# full_record_df=pd.concat(dfs)"
      ],
      "metadata": {
        "id": "LT3bgHTmrSI2"
      },
      "execution_count": null,
      "outputs": []
    },
    {
      "cell_type": "code",
      "source": [
        "# full_record_z_df = full_record_df\n",
        "# for column in full_record_df.columns:\n",
        "#   if column != 'index'or column != 'seizure' or column != '-':\n",
        "#       full_record_z_df[column] = (full_record_df[column] -full_record_df[column].mean()) / full_record_df[column].std()  \n",
        "#   else:\n",
        "#       full_record_z_df[column] = full_record_df[column]   \n"
      ],
      "metadata": {
        "id": "DfA-J4hN8puH"
      },
      "execution_count": null,
      "outputs": []
    },
    {
      "cell_type": "code",
      "source": [
        "# full_record_z_df.drop('-', inplace=True, axis=1)"
      ],
      "metadata": {
        "id": "KWPZgYCAeMg-"
      },
      "execution_count": null,
      "outputs": []
    },
    {
      "cell_type": "code",
      "source": [
        "# full_record_z_df.head(8)"
      ],
      "metadata": {
        "id": "gMuCIZFxeg8v"
      },
      "execution_count": null,
      "outputs": []
    },
    {
      "cell_type": "markdown",
      "source": [
        "## Data Processing\n"
      ],
      "metadata": {
        "id": "YDcTplz8FvhA"
      }
    },
    {
      "cell_type": "code",
      "source": [
        "import seaborn as sns\n",
        "from sklearn.preprocessing import StandardScaler\n",
        "from sklearn.decomposition import PCA"
      ],
      "metadata": {
        "id": "RZ6wJ_yWnJwE"
      },
      "execution_count": null,
      "outputs": []
    },
    {
      "cell_type": "code",
      "source": [
        "!pip install pyentrp"
      ],
      "metadata": {
        "colab": {
          "base_uri": "https://localhost:8080/"
        },
        "id": "Zr8hMXuLSp7p",
        "outputId": "29eb67ee-053a-476a-c7e6-800f48afc0cd"
      },
      "execution_count": null,
      "outputs": [
        {
          "output_type": "stream",
          "name": "stdout",
          "text": [
            "Looking in indexes: https://pypi.org/simple, https://us-python.pkg.dev/colab-wheels/public/simple/\n",
            "Requirement already satisfied: pyentrp in /usr/local/lib/python3.8/dist-packages (0.7.1)\n",
            "Requirement already satisfied: numpy>=1.7.0 in /usr/local/lib/python3.8/dist-packages (from pyentrp) (1.21.6)\n"
          ]
        }
      ]
    },
    {
      "cell_type": "code",
      "source": [
        "import pywt\n",
        "import math\n",
        "import numpy as np\n",
        "import pandas as pd\n",
        "from pyentrp import entropy\n",
        "from tqdm.notebook import tqdm\n",
        "from scipy.signal import welch\n",
        "from scipy.integrate import simps\n",
        "from scipy.stats import skew, kurtosis, variation\n",
        "from imblearn.over_sampling import SMOTE, ADASYN\n",
        "from imblearn.under_sampling import ClusterCentroids, RandomUnderSampler, NearMiss\n",
        "from sklearn.utils import shuffle\n",
        "from sklearn.model_selection import train_test_split\n",
        "from sklearn.model_selection import KFold"
      ],
      "metadata": {
        "id": "UWGfhLL-SQge"
      },
      "execution_count": null,
      "outputs": []
    },
    {
      "cell_type": "markdown",
      "source": [
        "### Features Processing:"
      ],
      "metadata": {
        "id": "-Zq6VYjLSupw"
      }
    },
    {
      "cell_type": "markdown",
      "source": [
        "### "
      ],
      "metadata": {
        "id": "Cw1FpoypsaAA"
      }
    },
    {
      "cell_type": "code",
      "source": [
        "def leftRightHemisphericChannels (df):\n",
        "    ndf = pd.DataFrame()\n",
        "    ndf['AvgLeftHemisphere'] = (df['F3-C3'] + df['C3-P3'])/2\n",
        "    ndf['AvgRightHemisphere'] = (df['F4-C4'] + df['C4-P4'])/2\n",
        "    ndf['seizure'] = df['seizure']\n",
        "    return ndf"
      ],
      "metadata": {
        "id": "LzHxL8WfSWkW"
      },
      "execution_count": null,
      "outputs": []
    },
    {
      "cell_type": "code",
      "source": [
        "'''\n",
        "https://stackoverflow.com/questions/30272538/python-code-for-counting-number-of-zero-crossings-in-an-array\n",
        "https://stackoverflow.com/questions/5613244/root-mean-square-in-numpy-and-complications-of-matrix-and-arrays-of-numpy\n",
        "'''\n",
        "def computeTimeDomainFeatures (x):\n",
        "    mean = np.mean(x)\n",
        "    var = np.var(x)\n",
        "    sk = skew(x)\n",
        "    kurt = kurtosis(x)\n",
        "    std = np.std(x)\n",
        "    median = np.median(x)\n",
        "    zcr = ((x[:-1] * x[1:]) < 0).sum() / len(x)\n",
        "    if x.mean() != 0:\n",
        "        cv = variation(x)\n",
        "    else:\n",
        "        cv = math.nan\n",
        "    if x.size > 0:\n",
        "        rms = np.sqrt(x.dot(x)/x.size)\n",
        "    else:\n",
        "        rms = math.nan\n",
        "    p2p = x.max() - x.min()\n",
        "    sampEn = entropy.sample_entropy(x, 1)[0]\n",
        "    return mean, var, sk, kurt, std, median, zcr, cv, rms, p2p, sampEn"
      ],
      "metadata": {
        "id": "Nw0ZzXc0ScIo"
      },
      "execution_count": null,
      "outputs": []
    },
    {
      "cell_type": "code",
      "source": [
        "def computeCorrelation (left, right):\n",
        "    return abs(np.correlate(left, right, 'full')).max()"
      ],
      "metadata": {
        "id": "Z3E-5kxmSgdI"
      },
      "execution_count": null,
      "outputs": []
    },
    {
      "cell_type": "code",
      "source": [
        "def featureExtractionLeftRight (df, sample_rate, step):\n",
        "    print('Feature Extraction')\n",
        "    ft = pd.DataFrame()\n",
        "    c = 0\n",
        "    for i in tqdm(range (0, df.shape[0], step)):\n",
        "        temp = df.iloc[i:i+step]\n",
        "        left = np.array(temp['AvgLeftHemisphere'])\n",
        "        right = np.array(temp['AvgRightHemisphere'])\n",
        "\n",
        "        # Time Domain Features\n",
        "        ft.loc[c,'Lmean'], ft.loc[c,'Lvar'], ft.loc[c,'Lskew'],ft.loc[c,'Lkurt'], ft.loc[c,'Lstd'], ft.loc[c,'Lmedian'], ft.loc[c,'Lzcr'], ft.loc[c,'Lcv'], ft.loc[c,'Lrms'], ft.loc[c,'Lp2p'],ft.loc[c,'LsampEn'] = computeTimeDomainFeatures(left)\n",
        "        ft.loc[c,'Rmean'], ft.loc[c,'Rvar'], ft.loc[c,'Rskew'],ft.loc[c,'Rkurt'], ft.loc[c,'Rstd'], ft.loc[c,'Rmedian'], ft.loc[c,'Rzcr'], ft.loc[c,'Rcv'], ft.loc[c,'Rrms'], ft.loc[c,'Rp2p'],ft.loc[c,'RsampEn'] = computeTimeDomainFeatures(right)\n",
        "\n",
        "        # Frequency Domain Features\n",
        "        ft.loc[c,'LdeltaPower'], ft.loc[c,'LthetaPower'], ft.loc[c,'LalphaPower'], ft.loc[c,'LbetaPower'], ft.loc[c,'LgammaPower'] = psd(left, sample_rate, left.shape[0])\n",
        "        ft.loc[c,'RdeltaPower'], ft.loc[c,'RthetaPower'], ft.loc[c,'RalphaPower'], ft.loc[c,'RbetaPower'], ft.loc[c,'RgammaPower'] = psd(right, sample_rate, right.shape[0])\n",
        "\n",
        "        \n",
        "        # Correlation Features\n",
        "        ft.loc[c, 'corr'] = computeCorrelation(left, right)\n",
        "\n",
        "        ft.loc[c, 'seizure'] = temp['seizure'].value_counts().idxmax()\n",
        "        c = c + 1\n",
        "    return ft"
      ],
      "metadata": {
        "id": "jLpA6ucJSijO"
      },
      "execution_count": null,
      "outputs": []
    },
    {
      "cell_type": "code",
      "source": [
        "def featureExtractionAverage (df, sample_rate, step):\n",
        "    print('Feature Extraction')\n",
        "    ft = pd.DataFrame()\n",
        "    c = 0\n",
        "    for i in tqdm(range (0, df.shape[0], step)):\n",
        "        temp = df.iloc[i:i+step]\n",
        "        s = np.array(temp['surrogate'])\n",
        "        \n",
        "        # Time Domain Features\n",
        "        ft.loc[c,'mean'], ft.loc[c,'var'], ft.loc[c,'skew'],ft.loc[c,'kurt'], ft.loc[c,'std'], ft.loc[c,'median'], ft.loc[c,'zcr'], ft.loc[c,'cv'], ft.loc[c,'rms'], ft.loc[c,'p2p'],ft.loc[c,'sampEn'] = computeTimeDomainFeatures(s)\n",
        "        \n",
        "        # Frequency Domain Features\n",
        "        ft.loc[c,'deltaPower'], ft.loc[c,'thetaPower'], ft.loc[c,'alphaPower'], ft.loc[c,'betaPower'], ft.loc[c,'gammaPower'] = psd(s, sample_rate, s.shape[0])\n",
        "        \n",
        "        ft.loc[c, 'seizure'] = temp['seizure'].value_counts().idxmax()\n",
        "        c = c + 1\n",
        "    return ft"
      ],
      "metadata": {
        "id": "TsgoxtsYSjRp"
      },
      "execution_count": null,
      "outputs": []
    },
    {
      "cell_type": "code",
      "source": [
        "def featureExtractionFull (df, sample_rate, step):\n",
        "    print('Feature Extraction')\n",
        "    ft = pd.DataFrame()\n",
        "    c = 0\n",
        "    for i in tqdm(range (0, df.shape[0], step)):\n",
        "        temp = df.iloc[i:i+step]\n",
        "        for j in range(0, df.shape[1]-1):\n",
        "            s = np.array(temp.iloc[:, j])\n",
        "\n",
        "            # Time Domain Features\n",
        "            ft.loc[c, 'mean'+str(j)], ft.loc[c, 'var'+str(j)], ft.loc[c, 'skew'+str(j)],ft.loc[c, 'kurt'+str(j)], ft.loc[c, 'std'+str(j)], ft.loc[c, 'median'+str(j)], ft.loc[c, 'zcr'+str(j)], ft.loc[c, 'cv'+str(j)], ft.loc[c, 'rms'+str(j)], ft.loc[c, 'p2p'+str(j)],ft.loc[c, 'sampEn'+str(j)] = computeTimeDomainFeatures(s)\n",
        "\n",
        "            # Frequency Domain Features\n",
        "            ft.loc[c, 'deltaPower'+str(j)], ft.loc[c, 'thetaPower'+str(j)], ft.loc[c, 'alphaPower'+str(j)], ft.loc[c, 'betaPower'+str(j)], ft.loc[c, 'gammaPower'+str(j)] = psd(s, sample_rate, s.shape[0])\n",
        "\n",
        "        ft.loc[c, 'seizure'] = temp['seizure'].value_counts().idxmax()\n",
        "        c = c + 1\n",
        "    return ft"
      ],
      "metadata": {
        "id": "wTQJaEEGSmBc"
      },
      "execution_count": null,
      "outputs": []
    },
    {
      "cell_type": "code",
      "source": [
        "'''\n",
        "Compute the average bandpower of an EEG signal\n",
        "https://raphaelvallat.com/bandpower.html\n",
        "'''\n",
        "def psd (x, fs, win):\n",
        "    bands = [0.5, 4, 8, 12, 30, 100]\n",
        "    freqs, psd = welch(x, fs, nperseg = win)\n",
        "    avg_power=[]\n",
        "    while len(bands)>1:\n",
        "        idx = np.logical_and(freqs >= bands[0], freqs <= bands[1])\n",
        "        power_simps = simps(psd[idx], dx=bands[1]-bands[0])\n",
        "        avg_power.append(power_simps)\n",
        "        bands = np.copy(bands[1:])\n",
        "    for p in avg_power:\n",
        "        yield p"
      ],
      "metadata": {
        "id": "uVeBIn4VSd23"
      },
      "execution_count": null,
      "outputs": []
    },
    {
      "cell_type": "code",
      "source": [
        "def averageChannels (df):\n",
        "    ndf = pd.DataFrame()\n",
        "    ndf['surrogate'] = df.iloc[:, :df.shape[1]-1].mean(axis=1)\n",
        "    ndf['seizure'] = df['seizure']\n",
        "    return ndf"
      ],
      "metadata": {
        "id": "LEw7snVNSY9C"
      },
      "execution_count": null,
      "outputs": []
    },
    {
      "cell_type": "code",
      "source": [
        "def dimentionalityReduction(features, threshold):\n",
        "    ft = features.iloc[:, :features.columns.size-1]\n",
        "    pca_ft = pd.DataFrame(PCA(n_components = threshold).fit_transform(ft))\n",
        "    pca_ft['seizure'] = features['seizure'].copy()\n",
        "    return pca_ft"
      ],
      "metadata": {
        "id": "O_hx1IVkRibI"
      },
      "execution_count": null,
      "outputs": []
    },
    {
      "cell_type": "code",
      "source": [
        "def featureNormalization(ft):\n",
        "    scaled_df = StandardScaler().fit_transform(ft.iloc[:, :ft.shape[1]-1])\n",
        "    norm_ft = pd.DataFrame(scaled_df)\n",
        "    norm_ft['seizure'] = ft['seizure'].copy()\n",
        "    return norm_ft"
      ],
      "metadata": {
        "id": "LoMYZmXURF5G"
      },
      "execution_count": null,
      "outputs": []
    },
    {
      "cell_type": "code",
      "source": [
        "def removeNonNumericValues(df):\n",
        "    df.replace([np.inf, -np.inf], np.nan, inplace = True)\n",
        "    df.dropna(inplace = True)"
      ],
      "metadata": {
        "id": "JBLcaGSYROqF"
      },
      "execution_count": null,
      "outputs": []
    },
    {
      "cell_type": "code",
      "source": [
        "def oversamplingSMOTE(ft, ft_index, neighbors):\n",
        "    smote = SMOTE(sampling_strategy = 'minority', k_neighbors = neighbors)\n",
        "    smote_features, smote_indicator = smote.fit_resamplele(ft, ft_index)\n",
        "    smote_features['seizure'] = smote_indicator\n",
        "    return smote_features"
      ],
      "metadata": {
        "id": "Be_KKj-ATSPO"
      },
      "execution_count": null,
      "outputs": []
    },
    {
      "cell_type": "code",
      "source": [
        "def oversamplingADASYN(ft, ft_index, neighbors):\n",
        "    adasyn = ADASYN(sampling_strategy='minority', n_neighbors = neighbors)\n",
        "    adasyn_features, adasyn_indicator = adasyn.fit_resample(ft, ft_index)\n",
        "    adasyn_features['seizure'] = adasyn_indicator\n",
        "    return adasyn_features"
      ],
      "metadata": {
        "id": "YAX74nANTzY8"
      },
      "execution_count": null,
      "outputs": []
    },
    {
      "cell_type": "code",
      "source": [
        "def minorityOversampling (ft, ft_index, neighbors, method):\n",
        "    if method.upper() == 'ADASYN':\n",
        "        return oversamplingADASYN(ft, ft_index, neighbors)\n",
        "    else:\n",
        "        return oversamplingSMOTE(ft, ft_index, neighbors)"
      ],
      "metadata": {
        "id": "YanDwVbqT0yJ"
      },
      "execution_count": null,
      "outputs": []
    },
    {
      "cell_type": "code",
      "source": [
        "def undersamplingClusterCentroids(ft, ft_index, rate):\n",
        "    cc = ClusterCentroids(sampling_strategy = rate)\n",
        "    cc_features, cc_indicator = cc.fit_resample(ft, ft_index)\n",
        "    cc_features['seizure'] = cc_indicator\n",
        "    return cc_features"
      ],
      "metadata": {
        "id": "Ofgcu7xVT2qj"
      },
      "execution_count": null,
      "outputs": []
    },
    {
      "cell_type": "code",
      "source": [
        "def undersamplingNearMiss(ft, ft_index, rate, neighbors):\n",
        "    nm = NearMiss(sampling_strategy=rate, n_neighbors=neighbors)\n",
        "    nm_features, nm_indicator = nm.fit_resample(ft, ft_index)\n",
        "    nm_features['seizure'] = nm_indicator\n",
        "    return nm_features"
      ],
      "metadata": {
        "id": "vbcK9wP5T5zU"
      },
      "execution_count": null,
      "outputs": []
    },
    {
      "cell_type": "code",
      "source": [
        "def undersamplingRandom (ft, ft_index, rate):\n",
        "    ru = RandomUnderSampler(sampling_strategy = rate)\n",
        "    ru_features, ru_indicator = ru.fit_resample(ft, ft_index)\n",
        "    ru_features['seizure'] = ru_indicator\n",
        "    return ru_features"
      ],
      "metadata": {
        "id": "VSsjPDEiT85J"
      },
      "execution_count": null,
      "outputs": []
    },
    {
      "cell_type": "code",
      "source": [
        "def majorityUndersampling (ft, ft_index, rate, neighbors, method):\n",
        "    if method.upper() == 'RANDOM':\n",
        "        return undersamplingRandom (ft, ft_index, rate)\n",
        "    elif method.upper() == 'NEARMISS':\n",
        "        return undersamplingNearMiss(ft, ft_index, rate, neighbors)\n",
        "    else:\n",
        "        return undersamplingClusterCentroids(ft, ft_index, rate)"
      ],
      "metadata": {
        "id": "4PA8N1-mT-a3"
      },
      "execution_count": null,
      "outputs": []
    },
    {
      "cell_type": "markdown",
      "source": [
        "#### Features Extraction:"
      ],
      "metadata": {
        "id": "0bGaYW2KTJCV"
      }
    },
    {
      "cell_type": "code",
      "source": [
        "def featureExtraction (df, sample_rate, step, pca_tolerance, undersampling_method, undersampling_rate, undersampling_neighbors, oversampling_method, oversampling_neighbors, exp):\n",
        "    if exp.upper() not in ['FULL', 'AVERAGE', 'LEFTRIGHT']:\n",
        "        print('No such experiment:', exp)\n",
        "        return\n",
        "    else:\n",
        "        print ('Executing Experiment', exp)\n",
        "    if exp.upper() == 'FULL':\n",
        "        ft = pd.DataFrame(featureExtractionFull (df, sample_rate, step))\n",
        "    elif exp.upper() == 'AVERAGE':\n",
        "        ft = pd.DataFrame(featureExtractionAverage (averageChannels(df), sample_rate, step))\n",
        "    else:\n",
        "        ft = pd.DataFrame(featureExtractionLeftRight (leftRightHemisphericChannels(df), sample_rate, step))\n",
        "    removeNonNumericValues(ft)\n",
        "    ft = featureNormalization(ft)\n",
        "    print('Normalized features')\n",
        "    removeNonNumericValues(ft)\n",
        "    size = ft.shape\n",
        "    print('Reducing features dimension')\n",
        "    ft = dimentionalityReduction(ft, pca_tolerance)\n",
        "    removeNonNumericValues(ft)\n",
        "    print('Dimensions reduced from', size, 'to', ft.shape)\n",
        "    size = ft.seizure.value_counts()\n",
        "    print('Undersampling the majority class using', undersampling_method)\n",
        "    ft = majorityUndersampling(ft.loc[:, ft.columns != 'seizure'], ft['seizure'], undersampling_rate, undersampling_neighbors, undersampling_method)\n",
        "    removeNonNumericValues(ft)\n",
        "    print('Majority class downsampled from (', size[0], ', ', ft.shape[1], ') to ', ft.shape, sep = '')\n",
        "    size = ft.shape\n",
        "    print('Oversampling the minority class using', oversampling_method)\n",
        "    ft = minorityOversampling(ft.loc[:, ft.columns != 'seizure'], ft['seizure'], oversampling_neighbors, oversampling_method)\n",
        "    ft = shuffle(ft)\n",
        "    ft.reset_index(drop = True, inplace = True)\n",
        "    removeNonNumericValues(ft)\n",
        "    print('Minority class upsampled from (', size[0], ', ', ft.shape[1], ') to ', ft.shape, sep='')\n",
        "    print('Writing features to a csv file\\n')\n",
        "    ft.to_csv(exp + 'Features.csv', index = False)\n",
        "    return ft"
      ],
      "metadata": {
        "id": "2dXM_DbHRQyc"
      },
      "execution_count": null,
      "outputs": []
    },
    {
      "cell_type": "code",
      "source": [
        "def createTrainingAndTestDatasets(dataset, test_ratio):\n",
        "    X = dataset.loc[:, dataset.columns != 'seizure']\n",
        "    y = dataset['seizure']\n",
        "    X_train, X_test, y_train, y_test = train_test_split(X, y, test_size = test_ratio, shuffle = True)\n",
        "    return X_train, X_test, y_train, y_test"
      ],
      "metadata": {
        "id": "tIqB6MRhXadN"
      },
      "execution_count": null,
      "outputs": []
    },
    {
      "cell_type": "code",
      "source": [
        "def trainTestData (features, test_ratio, k_fold, perfInd):\n",
        "    X_train, X_test, y_train, y_test = createTrainingAndTestDatasets(features, test_ratio)\n",
        "    results = pd.DataFrame(columns = perfInd)\n",
        "    kf = KFold(n_splits = k_fold, shuffle = True)\n",
        "    return X_train, X_test, y_train, y_test, results, kf"
      ],
      "metadata": {
        "id": "Ovj2nIcCXhI2"
      },
      "execution_count": null,
      "outputs": []
    },
    {
      "cell_type": "markdown",
      "source": [
        "#### Different Classification Models:"
      ],
      "metadata": {
        "id": "FXqGh8Lkbu8V"
      }
    },
    {
      "cell_type": "code",
      "source": [
        "from sklearn.svm import SVC\n",
        "from sklearn.naive_bayes import GaussianNB\n",
        "from sklearn.tree import DecisionTreeClassifier\n",
        "from sklearn.neighbors import KNeighborsClassifier\n",
        "from sklearn.ensemble import RandomForestClassifier\n",
        "from sklearn.linear_model import LogisticRegression\n",
        "from sklearn.discriminant_analysis import LinearDiscriminantAnalysis\n",
        "from keras.regularizers import l2\n",
        "from keras.models import Sequential\n",
        "from keras.optimizers import Adam, SGD\n",
        "from keras.callbacks import EarlyStopping\n",
        "from keras.layers import Dense, Dropout, LSTM\n",
        "import time\n",
        "from sklearn.metrics import accuracy_score, cohen_kappa_score, confusion_matrix, f1_score, matthews_corrcoef\n",
        "from unittest import result"
      ],
      "metadata": {
        "id": "R23bUqTNbsxX"
      },
      "execution_count": null,
      "outputs": []
    },
    {
      "cell_type": "code",
      "source": [
        "def classificationPerformanceIndexes (true_arr, pred_arr, time):\n",
        "    (tn, fp, fn, tp) = confusion_matrix(true_arr, pred_arr).ravel()\n",
        "    acc = accuracy_score(true_arr, pred_arr)                           # Accuracy\n",
        "    snv = tp/(tp + fn)                                                 # Sensitivity or True Positive Rate (TPR)\n",
        "    spc = tn/(tn + fp)                                                 # Specificity or True Negative Rate (TNR)\n",
        "    ppv = tp/(tp + fp)                                                 # Precision or Positive Predictive Value (PPV)\n",
        "    f1 = f1_score(true_arr, pred_arr)                                  # F1 score\n",
        "    mcc = matthews_corrcoef(true_arr, pred_arr)                        # Matthews Correlation Coefficient\n",
        "    kappa = cohen_kappa_score(true_arr, pred_arr)                      # Cohen’s Kappa    \n",
        "    return acc, snv, spc, ppv, f1, mcc, kappa, time\n",
        "'''\n",
        "TP : the number of segments that are correctly identified as ictal (x_true == x_pred == 1)\n",
        "TN : the number of EEG segments that are correctly classified as non-ictal (x_true == x_pred == 0)\n",
        "FP : the number of EEG segments that are incorrectly classified as ictal (x_true == 0 && x_pred == 1)\n",
        "FN : the segments that are incorrectly classified as non-ictal (x_true == 1 && x_pred == 0)\n",
        "'''"
      ],
      "metadata": {
        "colab": {
          "base_uri": "https://localhost:8080/",
          "height": 72
        },
        "id": "oM6hFqHnd2S0",
        "outputId": "da98852d-8ff9-499f-c691-9e5c0ce9297d"
      },
      "execution_count": null,
      "outputs": [
        {
          "output_type": "execute_result",
          "data": {
            "text/plain": [
              "'\\nTP : the number of segments that are correctly identified as ictal (x_true == x_pred == 1)\\nTN : the number of EEG segments that are correctly classified as non-ictal (x_true == x_pred == 0)\\nFP : the number of EEG segments that are incorrectly classified as ictal (x_true == 0 && x_pred == 1)\\nFN : the segments that are incorrectly classified as non-ictal (x_true == 1 && x_pred == 0)\\n'"
            ],
            "application/vnd.google.colaboratory.intrinsic+json": {
              "type": "string"
            }
          },
          "metadata": {},
          "execution_count": 54
        }
      ]
    },
    {
      "cell_type": "code",
      "source": [
        "def printClassificationPerformanceIndexes(method, acc, snv, spc, ppv, f1, mcc, kappa):\n",
        "    print('Method:', method)\n",
        "    print('Accuracy:', acc)\n",
        "    print('Sensitivity/Recall:', snv)\n",
        "    print('Specificity:', spc)\n",
        "    print('Precision:', ppv)\n",
        "    print('F1 Score:', f1)\n",
        "    print('Matthews Correlation Coefficient:', mcc)\n",
        "    print('Cohen’s Kappa:', kappa)"
      ],
      "metadata": {
        "id": "4ho3GmhQd5-X"
      },
      "execution_count": null,
      "outputs": []
    },
    {
      "cell_type": "code",
      "source": [
        "def TrainingKfold (X, train, test):\n",
        "    X_train = X.iloc[train,:X.shape[1]-1]\n",
        "    y_train = X.loc[train,'seizure']\n",
        "    X_test = X.iloc[test,:X.shape[1]-1]\n",
        "    y_test = X.loc[test,'seizure']\n",
        "    return X_train, y_train, X_test, y_test"
      ],
      "metadata": {
        "id": "_ZyFH6svb3Rp"
      },
      "execution_count": null,
      "outputs": []
    },
    {
      "cell_type": "markdown",
      "source": [
        "##### SVM:\n"
      ],
      "metadata": {
        "id": "29bHoJ89b5Tn"
      }
    },
    {
      "cell_type": "code",
      "source": [
        "def SVM_Classifier():\n",
        "    return SVC(kernel='poly', gamma='auto', degree=3)"
      ],
      "metadata": {
        "id": "BcT0nG3Qb8Z-"
      },
      "execution_count": null,
      "outputs": []
    },
    {
      "cell_type": "code",
      "source": [
        "def SVM(X_train, y_train, X_test, y_test, results):\n",
        "    print('Implementing SVM method...')\n",
        "    start = time.time()\n",
        "    clf = SVM_Classifier()\n",
        "    svm_ind = clf.fit(X_train, y_train).predict(X_test)\n",
        "    end = time.time()\n",
        "    t = round(end - start,2)\n",
        "    acc, snv, spc, ppv, f1, mcc, kappa, tt = classificationPerformanceIndexes (y_test, svm_ind, t)\n",
        "    results.loc['SVM', :] = acc, snv, spc, ppv, f1, mcc, kappa, t\n",
        "    printClassificationPerformanceIndexes('SVM', acc, snv, spc, ppv, f1, mcc, kappa)\n",
        "    print('SVM finished in', t, 'sec\\n')"
      ],
      "metadata": {
        "id": "yL-2NYpBdqdk"
      },
      "execution_count": null,
      "outputs": []
    },
    {
      "cell_type": "code",
      "source": [
        "def SVM_Kfold(X, kf, cols, results):\n",
        "    f = pd.DataFrame(columns = cols)\n",
        "    print('Implementing SVM k-fold...')\n",
        "    start = time.time()\n",
        "    clf = SVM_Classifier()\n",
        "    for train, test in kf.split(X):\n",
        "        X_train, y_train, X_test, y_test = TrainingKfold (X, train, test)\n",
        "        svm_ind = clf.fit(X_train, y_train).predict(X_test)\n",
        "        f.loc[f.shape[0], :] = classificationPerformanceIndexes (y_test, svm_ind, 0)\n",
        "    end = time.time()\n",
        "    t = round(end - start,2)    \n",
        "    acc, snv, spc, ppv, f1, mcc, kappa, tt = np.array(f.mean(axis=0))\n",
        "    results.loc['SVM Kfold', :] = acc, snv, spc, ppv, f1, mcc, kappa, t\n",
        "    printClassificationPerformanceIndexes('SVM Kfold', acc, snv, spc, ppv, f1, mcc, kappa)\n",
        "    print('SVM k-fold finished in', t, 'sec\\n')"
      ],
      "metadata": {
        "id": "GUlYDU3Kdtp9"
      },
      "execution_count": null,
      "outputs": []
    },
    {
      "cell_type": "code",
      "source": [
        "def CompleteSVM(train_dat, test_dat, train_ind, test_ind, results, features, kf, perfInd):\n",
        "    SVM(train_dat, train_ind, test_dat, test_ind, results)\n",
        "    SVM_Kfold(features, kf, perfInd, results)"
      ],
      "metadata": {
        "id": "23h9c9a-eDi3"
      },
      "execution_count": null,
      "outputs": []
    },
    {
      "cell_type": "markdown",
      "source": [
        "##### K-NN:\n"
      ],
      "metadata": {
        "id": "LiwsPFUgeLie"
      }
    },
    {
      "cell_type": "code",
      "source": [
        "def KNN_Classifier():\n",
        "    return KNeighborsClassifier(n_neighbors = 3, weights='distance', metric = 'manhattan', n_jobs = -1)"
      ],
      "metadata": {
        "id": "ehHL2H4LeHR0"
      },
      "execution_count": null,
      "outputs": []
    },
    {
      "cell_type": "code",
      "source": [
        "def KNN(X_train, y_train, X_test, y_test, experiment,results):\n",
        "    print('Implementing KNN...')\n",
        "    start = time.time()\n",
        "    clf = KNN_Classifier()\n",
        "    knn_ind = clf.fit(X_train, y_train).predict(X_test)\n",
        "    end = time.time()\n",
        "    t = round(end - start,2)    \n",
        "    acc, snv, spc, ppv, f1, mcc, kappa, tt = classificationPerformanceIndexes (y_test, knn_ind, t)\n",
        "    results.loc['KNN', :] = acc, snv, spc, ppv, f1, mcc, kappa, t\n",
        "    printClassificationPerformanceIndexes('KNN', acc, snv, spc, ppv, f1, mcc, kappa)\n",
        "    print('KNN finished in', t,'sec\\n')"
      ],
      "metadata": {
        "id": "5R2ax34-eUS_"
      },
      "execution_count": null,
      "outputs": []
    },
    {
      "cell_type": "code",
      "source": [
        "def KNN_Kfold(X, experiment, kf, cols, results):\n",
        "    f = pd.DataFrame(columns = cols)\n",
        "    print('Implementing KNN k-fold...')\n",
        "    start = time.time()\n",
        "    clf = KNN_Classifier()\n",
        "    for train, test in kf.split(X):\n",
        "        X_train, y_train, X_test, y_test = TrainingKfold (X, train, test)\n",
        "        knn_ind = clf.fit(X_train, y_train).predict(X_test)\n",
        "        f.loc[f.shape[0], :] = classificationPerformanceIndexes (y_test, knn_ind, 0)\n",
        "    end = time.time()\n",
        "    t = round(end - start,2)    \n",
        "    acc, snv, spc, ppv, f1, mcc, kappa, tt =  np.array(f.mean(axis=0))\n",
        "    printClassificationPerformanceIndexes('KNN Kfold', acc, snv, spc, ppv, f1, mcc, kappa)\n",
        "    results.loc['KNN Kfold', :] = acc, snv, spc, ppv, f1, mcc, kappa, t\n",
        "    print('KNN k-fold finished in', t,'sec\\n')"
      ],
      "metadata": {
        "id": "srclgqSeeWaH"
      },
      "execution_count": null,
      "outputs": []
    },
    {
      "cell_type": "code",
      "source": [
        "def CompleteKNN(train_dat, test_dat, train_ind, test_ind, results, experiment, features, kf, perfInd):\n",
        "    KNN(train_dat, train_ind, test_dat, test_ind, experiment, results)\n",
        "    KNN_Kfold(features, experiment, kf, perfInd, results)"
      ],
      "metadata": {
        "id": "umVyX67oeYkd"
      },
      "execution_count": null,
      "outputs": []
    },
    {
      "cell_type": "markdown",
      "source": [
        "##### Logistic Regression:\n"
      ],
      "metadata": {
        "id": "9o-WN4USegMG"
      }
    },
    {
      "cell_type": "code",
      "source": [
        "def LogRef_Classifier():\n",
        "    return LogisticRegression(penalty = 'l2', C = 0.1, max_iter = 200, solver = 'lbfgs') "
      ],
      "metadata": {
        "id": "2AIoFVHRek04"
      },
      "execution_count": null,
      "outputs": []
    },
    {
      "cell_type": "code",
      "source": [
        "def LogReg(X_train, y_train, X_test, y_test, results, experiment):\n",
        "    print('Implementing Logistic Regression...')\n",
        "    start = time.time()\n",
        "    clf = LogRef_Classifier()    \n",
        "    lr_ind = clf.fit(X_train, y_train).predict(X_test)\n",
        "    end = time.time()\n",
        "    t = round(end - start,2)    \n",
        "    acc, snv, spc, ppv, f1, mcc, kappa, tt = classificationPerformanceIndexes (y_test, lr_ind, t)\n",
        "    results.loc['Logistic Regression', :] = acc, snv, spc, ppv, f1, mcc, kappa, t\n",
        "    printClassificationPerformanceIndexes('Logistic Regression', acc, snv, spc, ppv, f1, mcc, kappa)\n",
        "    print('Logistic Regression finished in', t,'sec\\n')"
      ],
      "metadata": {
        "id": "-MdSmZCZemX_"
      },
      "execution_count": null,
      "outputs": []
    },
    {
      "cell_type": "code",
      "source": [
        "def LogReg_Kfold(X, kf, cols, results, experiment):\n",
        "    f = pd.DataFrame(columns = cols)\n",
        "    print('Implementing Logistic Regression k-fold...')\n",
        "    start = time.time()\n",
        "    clf = LogRef_Classifier()\n",
        "    for train, test in kf.split(X):\n",
        "        X_train, y_train, X_test, y_test = TrainingKfold (X, train, test)\n",
        "        lr_ind = clf.fit(X_train, y_train).predict(X_test)\n",
        "        f.loc[f.shape[0], :] = classificationPerformanceIndexes (y_test, lr_ind, 0)\n",
        "    end = time.time()\n",
        "    t = round(end - start,2)\n",
        "    acc, snv, spc, ppv, f1, mcc, kappa, tt = np.array(f.mean(axis=0))\n",
        "    results.loc['Logistic Regression Kfold', :] = acc, snv, spc, ppv, f1, mcc, kappa, t\n",
        "    printClassificationPerformanceIndexes('Logistic Regression Kfold', acc, snv, spc, ppv, f1, mcc, kappa)\n",
        "    print('Logistic Regression k-fold finished in', t,'sec\\n')"
      ],
      "metadata": {
        "id": "lGd3Fo_XeqOg"
      },
      "execution_count": null,
      "outputs": []
    },
    {
      "cell_type": "code",
      "source": [
        "def CompleteLR(train_dat, test_dat, train_ind, test_ind, results, experiment, features, kf, perfInd):\n",
        "    LogReg(train_dat, train_ind, test_dat, test_ind, results, experiment)\n",
        "    LogReg_Kfold(features, kf, perfInd, results, experiment)"
      ],
      "metadata": {
        "id": "DsWEe63Meq2S"
      },
      "execution_count": null,
      "outputs": []
    },
    {
      "cell_type": "markdown",
      "source": [
        "##### LSTM"
      ],
      "metadata": {
        "id": "E6c6KkgYesx4"
      }
    },
    {
      "cell_type": "code",
      "source": [
        "def LstmModel (size, lstm_units, dense_units, dropout_percentage, loss_function, metric):\n",
        "    model = Sequential()\n",
        "    model.add(LSTM(lstm_units, recurrent_regularizer = l2(1e-2), activity_regularizer = l2(1e-4), bias_regularizer = l2(1e-6)))\n",
        "    model.add(Dropout(dropout_percentage))\n",
        "    model.add(Dense(dense_units, activation = 'relu', kernel_regularizer = l2(1e-3), bias_regularizer = l2(1e-2)))\n",
        "    model.add(Dropout(dropout_percentage/2))\n",
        "    model.add(Dense(1, activation = 'sigmoid', kernel_regularizer = l2(1e-3), bias_regularizer = l2(1e-2)))\n",
        "    model.compile(optimizer = Adam(learning_rate = 1e-3), loss = loss_function, metrics = metric)\n",
        "    return model"
      ],
      "metadata": {
        "id": "wMgVtlKGeuw2"
      },
      "execution_count": null,
      "outputs": []
    },
    {
      "cell_type": "code",
      "source": [
        "def LSTM_method (model, X_train, y_train, X_test, y_test, batch, epochs, results):\n",
        "    print('Implementing LSTM...')\n",
        "    start = time.time()\n",
        "    es = EarlyStopping(monitor = 'val_loss', min_delta = 0, patience = 5, mode = 'auto', restore_best_weights = True, verbose = 0)\n",
        "    history = model.fit(X_train, y_train, batch_size = batch, epochs = epochs, validation_data = (X_test,y_test), callbacks = es, verbose = 0)\n",
        "    lstm_ind = (model.predict(X_test, batch_size = batch) >= 0.5).astype('int')\n",
        "    end = time.time()\n",
        "    t = round(end - start,2)\n",
        "    acc, snv, spc, ppv, f1, mcc, kappa, tt = classificationPerformanceIndexes (y_test, np.reshape(lstm_ind, lstm_ind.shape[0]), t)\n",
        "    results.loc['LSTM', :] = acc, snv, spc, ppv, f1, mcc, kappa, t\n",
        "    printClassificationPerformanceIndexes('LSTM', acc, snv, spc, ppv, f1, mcc, kappa)\n",
        "    print('LSTM finished in', t,'sec\\n')"
      ],
      "metadata": {
        "id": "mYxGyawLexqG"
      },
      "execution_count": null,
      "outputs": []
    },
    {
      "cell_type": "code",
      "source": [
        "def LSTM_method_Kfold(X, kf, cols, model, batch, epochs, results):\n",
        "    f = pd.DataFrame(columns = cols)\n",
        "    print('Implementing LSTM k-fold...')\n",
        "    start = time.time()\n",
        "    es = EarlyStopping(monitor = 'val_loss', min_delta = 0, patience = 5, mode = 'auto', restore_best_weights = True, verbose = 0)\n",
        "    for train, test in kf.split(X):\n",
        "        X_train = X.iloc[train,:X.shape[1]-1]\n",
        "        X_train = np.reshape(X_train.values, (X_train.shape[0], 1, X_train.shape[1]))\n",
        "        y_train = X.loc[train,'seizure'].values.astype(int)\n",
        "        X_test = X.iloc[test,:X.shape[1]-1]\n",
        "        X_test = np.reshape(X_test.values, (X_test.shape[0], 1, X_test.shape[1]))\n",
        "        y_test = X.loc[test,'seizure'].values.astype(int)\n",
        "        history = model.fit(X_train, y_train, batch_size = batch, epochs = epochs, validation_data = (X_test,y_test), callbacks = es, verbose = 0)\n",
        "        lstm_ind = (model.predict(X_test, batch_size = batch) >= 0.5).astype('int')\n",
        "        f.loc[f.shape[0], :] = classificationPerformanceIndexes (y_test, np.reshape(lstm_ind, lstm_ind.shape[0]), 0)\n",
        "    end = time.time()\n",
        "    t = round(end - start,2)\n",
        "    acc, snv, spc, ppv, f1, mcc, kappa, tt = np.array(f.mean(axis=0))\n",
        "    results.loc['LSTM Kfold', :] = acc, snv, spc, ppv, f1, mcc, kappa, t\n",
        "    printClassificationPerformanceIndexes('LSTM Kfold', acc, snv, spc, ppv, f1, mcc, kappa)\n",
        "    print('LSTM finished in', t,'sec\\n')"
      ],
      "metadata": {
        "id": "PIkasl3nezxL"
      },
      "execution_count": null,
      "outputs": []
    },
    {
      "cell_type": "code",
      "source": [
        "def CompleteLSTM (train_dat, test_dat, train_ind, test_ind, results, ft, kf, perfInd, epochs, batch, lstm_units, dense_units, dropout_percentage, loss_function, metric):\n",
        "    X_train = np.reshape(train_dat.values, (train_dat.shape[0], 1, train_dat.shape[1]))\n",
        "    y_train = train_ind.values.astype(int)\n",
        "    X_test = np.reshape(test_dat.values, (test_dat.shape[0], 1, test_dat.shape[1]))\n",
        "    y_test = test_ind.values.astype(int)\n",
        "\n",
        "    lstm_model = LstmModel (train_dat.shape[1], lstm_units, dense_units, dropout_percentage, loss_function, metric)\n",
        "    LSTM_method (lstm_model, X_train, y_train, X_test, y_test, batch, epochs, results)\n",
        "    LSTM_method_Kfold (ft, kf, perfInd, lstm_model, batch, epochs, results)"
      ],
      "metadata": {
        "id": "TaiFyw9Xe2wB"
      },
      "execution_count": null,
      "outputs": []
    },
    {
      "cell_type": "markdown",
      "source": [
        "## Results:"
      ],
      "metadata": {
        "id": "a-Vrh8Bex5OI"
      }
    },
    {
      "cell_type": "markdown",
      "source": [
        "#### Experimenting:"
      ],
      "metadata": {
        "id": "15rbRs5Me3iC"
      }
    },
    {
      "cell_type": "code",
      "source": [
        "experiments = ['Average', 'LeftRight', 'Full']\n",
        "perfInd = ['Accuracy', 'Sensitivity', 'Specificity', 'Precision', 'F1 Score', 'MCC', 'Kappa', 'Time']"
      ],
      "metadata": {
        "id": "w0Bp42r5ZJW_"
      },
      "execution_count": null,
      "outputs": []
    },
    {
      "cell_type": "code",
      "source": [
        "\n",
        "sample_rate = 256\n",
        "time_window = 2\n",
        "step = time_window * sample_rate\n",
        "k_fold=5\n",
        "test_ratio=0.31415\n",
        "epochs =100\n",
        "batch= 10\n",
        "dropout_percentage = 0.1\n",
        "loss_function = 'mean_squared_error'\n",
        "metric = 'accuracy'\n",
        "experiments = ['Average', 'LeftRight', 'Full']\n",
        "undersampling_method = 'ClusterCentroids'\n",
        "undersampling_rate = 0.2\n",
        "undersampling_neighbors = 3\n",
        "oversampling_method = 'ADASYN'\n",
        "oversampling_neighbors = 11\n",
        "for exp in experiments:\n",
        "  if exp.upper() not in ['FULL', 'AVERAGE', 'LEFTRIGHT']:\n",
        "        print('No such experiment:', exp)\n",
        "  else:\n",
        "        print ('Executing Experiment', exp)\n",
        "  FtDFres= featureExtraction (DF, 256, step, 0.9 , undersampling_method, undersampling_rate, undersampling_neighbors, oversampling_method, oversampling_neighbors, exp)\n",
        "  FtDFres.to_csv(exp + '.csv')\n",
        "  X_train, X_test, y_train, y_test, results, kf = trainTestData (FtDFres, test_ratio, k_fold, perfInd)  \n",
        "  CompleteSVM(X_train, X_test, y_train, y_test, results, FtDFres, kf, perfInd)\n",
        "  CompleteKNN(X_train, X_test, y_train, y_test, results, exp, FtDFres, kf, perfInd)\n",
        "  CompleteLR(X_train, X_test, y_train, y_test, results, exp, FtDFres, kf, perfInd)\n",
        "  if exp.upper() == 'AVERAGE':\n",
        "        lstm_units = 32\n",
        "        dense_units = 8\n",
        "  elif exp.upper() == 'LEFTRIGHT':\n",
        "        lstm_units = 64\n",
        "        dense_units = 16\n",
        "  else:\n",
        "        lstm_units = 128\n",
        "        dense_units = 32 \n",
        "  CompleteLSTM(X_train, X_test, y_train, y_test, results, FtDFres, kf, perfInd, epochs, batch, lstm_units, dense_units, dropout_percentage, loss_function, metric)\n",
        "  res = results\n",
        "  res.to_csv(exp + '.csv') "
      ],
      "metadata": {
        "colab": {
          "base_uri": "https://localhost:8080/",
          "height": 1000,
          "referenced_widgets": [
            "7209118c11d54bf7bae3081b39e7288a",
            "58d21cb212c24555950b8c8251311b97",
            "9dd21a51e2474d9eacdb723564d9f93d",
            "3a6a017872524ade80a83f7ef40be7d0",
            "367621bf38634822a9009f701e6f3d2c",
            "6d11d48ba1354898bd3e15d892440a94",
            "b3348822d9684fa3999cb27e79921b79",
            "20f6c369a4f348e8ae987c2fedf4b57d",
            "cd607bf780074d2c88cda81b5e09571d",
            "513e0e707b9d40e38ef67780b25f5caa",
            "dea110fec966438bbca746de7b4f8487",
            "568c733f984243cda8530d445e1329f8",
            "0873060aea2a4ccaae0a68e3b16476bb",
            "56deeb6734a74f4387b9810366e9b6d1",
            "86533886ab7143efbdae94a403c86a1c",
            "d5f55923d60b4a93a027473b10adac98",
            "ffcba8dd91e0409ab6fc7f5e400f710d",
            "520f5552f1544d03bded09f11ef971f2",
            "a0c6a0d10f66401a98bb2394b7136d8d",
            "a4bbbbcf9f524947a8d43613ff8e97f1",
            "e32313c8f3c64b2688251b55d956fc3f",
            "bf7fba5929ff41b2ba268d947c86718a",
            "e814ed3338cb467398a9adcc9b7e2efd",
            "93d468ad54594e72a015c09a16d8793e",
            "79e740b8d4c24ac19d7a1af896c4065d",
            "ad2103de23c245bdbfca44431e3b2aaa",
            "eef8ca0e38d5439089df386a518cd295",
            "f98a8d89872f4b2ab650f913244759ef",
            "ddd79853488f457398fc2a1913fbc0bc",
            "7dd3a326c0c64ff891302ce1ee63f811",
            "bb35d42228f240ee8be390fb8f11e558",
            "4bc1c41ec4b14c6b8bd7817911d25a59",
            "779c813797b24f699f5d2d93f300ac17"
          ]
        },
        "id": "oQbnVXNYTtPd",
        "outputId": "ba166b36-16b7-4078-a870-d00b06119be5"
      },
      "execution_count": null,
      "outputs": [
        {
          "output_type": "stream",
          "name": "stdout",
          "text": [
            "Executing Experiment Average\n",
            "Executing Experiment Average\n",
            "Feature Extraction\n"
          ]
        },
        {
          "output_type": "display_data",
          "data": {
            "text/plain": [
              "  0%|          | 0/7067 [00:00<?, ?it/s]"
            ],
            "application/vnd.jupyter.widget-view+json": {
              "version_major": 2,
              "version_minor": 0,
              "model_id": "7209118c11d54bf7bae3081b39e7288a"
            }
          },
          "metadata": {}
        },
        {
          "output_type": "stream",
          "name": "stdout",
          "text": [
            "Normalized features\n",
            "Reducing features dimension\n",
            "Dimensions reduced from (7067, 17) to (7067, 8)\n",
            "Undersampling the majority class using ClusterCentroids\n",
            "Majority class downsampled from (7027, 8) to (240, 8)\n",
            "Oversampling the minority class using ADASYN\n",
            "Minority class upsampled from (240, 8) to (406, 8)\n",
            "Writing features to a csv file\n",
            "\n",
            "Implementing SVM method...\n",
            "Method: SVM\n",
            "Accuracy: 0.8125\n",
            "Sensitivity/Recall: 1.0\n",
            "Specificity: 0.6\n",
            "Precision: 0.7391304347826086\n",
            "F1 Score: 0.85\n",
            "Matthews Correlation Coefficient: 0.6659416347320276\n",
            "Cohen’s Kappa: 0.6144578313253012\n",
            "SVM finished in 0.01 sec\n",
            "\n",
            "Implementing SVM k-fold...\n",
            "Method: SVM Kfold\n",
            "Accuracy: 0.8349593495934959\n",
            "Sensitivity/Recall: 1.0\n",
            "Specificity: 0.6623611111111111\n",
            "Precision: 0.7497071935157041\n",
            "F1 Score: 0.8554220053451089\n",
            "Matthews Correlation Coefficient: 0.7036546130673583\n",
            "Cohen’s Kappa: 0.6618962956423481\n",
            "SVM k-fold finished in 0.1 sec\n",
            "\n",
            "Implementing KNN...\n",
            "Method: KNN\n",
            "Accuracy: 0.9140625\n",
            "Sensitivity/Recall: 0.9852941176470589\n",
            "Specificity: 0.8333333333333334\n",
            "Precision: 0.8701298701298701\n",
            "F1 Score: 0.9241379310344828\n",
            "Matthews Correlation Coefficient: 0.8344223624517987\n",
            "Cohen’s Kappa: 0.8259149357072206\n",
            "KNN finished in 0.01 sec\n",
            "\n",
            "Implementing KNN k-fold...\n",
            "Method: KNN Kfold\n",
            "Accuracy: 0.9063836193917496\n",
            "Sensitivity/Recall: 1.0\n",
            "Specificity: 0.8077729884727527\n",
            "Precision: 0.8509529028765508\n",
            "F1 Score: 0.9179257930653554\n",
            "Matthews Correlation Coefficient: 0.8288396836353924\n",
            "Cohen’s Kappa: 0.8110744688297226\n",
            "KNN k-fold finished in 0.05 sec\n",
            "\n",
            "Implementing Logistic Regression...\n",
            "Method: Logistic Regression\n",
            "Accuracy: 0.9140625\n",
            "Sensitivity/Recall: 1.0\n",
            "Specificity: 0.8166666666666667\n",
            "Precision: 0.8607594936708861\n",
            "F1 Score: 0.9251700680272108\n",
            "Matthews Correlation Coefficient: 0.8384232740673951\n",
            "Cohen’s Kappa: 0.8255698711595639\n",
            "Logistic Regression finished in 0.01 sec\n",
            "\n",
            "Implementing Logistic Regression k-fold...\n",
            "Method: Logistic Regression Kfold\n",
            "Accuracy: 0.9040650406504065\n",
            "Sensitivity/Recall: 0.9952380952380953\n",
            "Specificity: 0.8134274185681776\n",
            "Precision: 0.8446374201854654\n",
            "F1 Score: 0.9126449893105688\n",
            "Matthews Correlation Coefficient: 0.8236370359083838\n",
            "Cohen’s Kappa: 0.8083816709052514\n",
            "Logistic Regression k-fold finished in 0.05 sec\n",
            "\n",
            "Implementing LSTM...\n",
            "13/13 [==============================] - 1s 2ms/step\n",
            "Method: LSTM\n",
            "Accuracy: 0.9296875\n",
            "Sensitivity/Recall: 0.9705882352941176\n",
            "Specificity: 0.8833333333333333\n",
            "Precision: 0.9041095890410958\n",
            "F1 Score: 0.9361702127659575\n",
            "Matthews Correlation Coefficient: 0.8608060089709284\n",
            "Cohen’s Kappa: 0.858128078817734\n",
            "LSTM finished in 23.66 sec\n",
            "\n",
            "Implementing LSTM k-fold...\n",
            "9/9 [==============================] - 0s 2ms/step\n",
            "9/9 [==============================] - 0s 2ms/step\n",
            "9/9 [==============================] - 0s 2ms/step\n",
            "9/9 [==============================] - 0s 2ms/step\n",
            "9/9 [==============================] - 0s 2ms/step\n",
            "Method: LSTM Kfold\n",
            "Accuracy: 0.9335140018066849\n",
            "Sensitivity/Recall: 1.0\n",
            "Specificity: 0.8635814804390656\n",
            "Precision: 0.8845838675455399\n",
            "F1 Score: 0.9383643869490041\n",
            "Matthews Correlation Coefficient: 0.873918391538866\n",
            "Cohen’s Kappa: 0.8653449671510067\n",
            "LSTM finished in 7.82 sec\n",
            "\n",
            "Executing Experiment LeftRight\n",
            "Executing Experiment LeftRight\n",
            "Feature Extraction\n"
          ]
        },
        {
          "output_type": "display_data",
          "data": {
            "text/plain": [
              "  0%|          | 0/7067 [00:00<?, ?it/s]"
            ],
            "application/vnd.jupyter.widget-view+json": {
              "version_major": 2,
              "version_minor": 0,
              "model_id": "568c733f984243cda8530d445e1329f8"
            }
          },
          "metadata": {}
        },
        {
          "output_type": "stream",
          "name": "stdout",
          "text": [
            "Normalized features\n",
            "Reducing features dimension\n",
            "Dimensions reduced from (7067, 34) to (7067, 15)\n",
            "Undersampling the majority class using ClusterCentroids\n",
            "Majority class downsampled from (7027, 15) to (240, 15)\n",
            "Oversampling the minority class using ADASYN\n",
            "Minority class upsampled from (240, 15) to (403, 15)\n",
            "Writing features to a csv file\n",
            "\n",
            "Implementing SVM method...\n",
            "Method: SVM\n",
            "Accuracy: 0.8740157480314961\n",
            "Sensitivity/Recall: 1.0\n",
            "Specificity: 0.7192982456140351\n",
            "Precision: 0.813953488372093\n",
            "F1 Score: 0.8974358974358974\n",
            "Matthews Correlation Coefficient: 0.7651635878669806\n",
            "Cohen’s Kappa: 0.7385486361296963\n",
            "SVM finished in 0.01 sec\n",
            "\n",
            "Implementing SVM k-fold...\n",
            "Method: SVM Kfold\n",
            "Accuracy: 0.841327160493827\n",
            "Sensitivity/Recall: 1.0\n",
            "Specificity: 0.6755099102064326\n",
            "Precision: 0.7623748541544033\n",
            "F1 Score: 0.86443317045839\n",
            "Matthews Correlation Coefficient: 0.7165668120890916\n",
            "Cohen’s Kappa: 0.6771618158684433\n",
            "SVM k-fold finished in 0.06 sec\n",
            "\n",
            "Implementing KNN...\n",
            "Method: KNN\n",
            "Accuracy: 0.937007874015748\n",
            "Sensitivity/Recall: 1.0\n",
            "Specificity: 0.8596491228070176\n",
            "Precision: 0.8974358974358975\n",
            "F1 Score: 0.945945945945946\n",
            "Matthews Correlation Coefficient: 0.8783393319249103\n",
            "Cohen’s Kappa: 0.8710005078720162\n",
            "KNN finished in 0.01 sec\n",
            "\n",
            "Implementing KNN k-fold...\n",
            "Method: KNN Kfold\n",
            "Accuracy: 0.8957716049382716\n",
            "Sensitivity/Recall: 0.9952380952380953\n",
            "Specificity: 0.7964100994884348\n",
            "Precision: 0.8332350427350427\n",
            "F1 Score: 0.9060413352247316\n",
            "Matthews Correlation Coefficient: 0.8093109805089472\n",
            "Cohen’s Kappa: 0.7915186629026166\n",
            "KNN k-fold finished in 0.05 sec\n",
            "\n",
            "Implementing Logistic Regression...\n",
            "Method: Logistic Regression\n",
            "Accuracy: 0.9291338582677166\n",
            "Sensitivity/Recall: 0.9857142857142858\n",
            "Specificity: 0.8596491228070176\n",
            "Precision: 0.8961038961038961\n",
            "F1 Score: 0.9387755102040817\n",
            "Matthews Correlation Coefficient: 0.860596407051054\n",
            "Cohen’s Kappa: 0.8551147166941311\n",
            "Logistic Regression finished in 0.01 sec\n",
            "\n",
            "Implementing Logistic Regression k-fold...\n",
            "Method: Logistic Regression Kfold\n",
            "Accuracy: 0.9033024691358025\n",
            "Sensitivity/Recall: 0.9953488372093023\n",
            "Specificity: 0.8093509810927724\n",
            "Precision: 0.8409595633125045\n",
            "F1 Score: 0.911374411419474\n",
            "Matthews Correlation Coefficient: 0.8191113817389756\n",
            "Cohen’s Kappa: 0.8047200887945196\n",
            "Logistic Regression k-fold finished in 0.06 sec\n",
            "\n",
            "Implementing LSTM...\n",
            "13/13 [==============================] - 0s 2ms/step\n",
            "Method: LSTM\n",
            "Accuracy: 0.9448818897637795\n",
            "Sensitivity/Recall: 0.9857142857142858\n",
            "Specificity: 0.8947368421052632\n",
            "Precision: 0.92\n",
            "F1 Score: 0.9517241379310346\n",
            "Matthews Correlation Coefficient: 0.8905522360512699\n",
            "Cohen’s Kappa: 0.8876816171825648\n",
            "LSTM finished in 11.73 sec\n",
            "\n",
            "Implementing LSTM k-fold...\n",
            "9/9 [==============================] - 0s 2ms/step\n",
            "9/9 [==============================] - 0s 4ms/step\n",
            "9/9 [==============================] - 0s 2ms/step\n",
            "8/8 [==============================] - 0s 2ms/step\n",
            "8/8 [==============================] - 0s 2ms/step\n",
            "Method: LSTM Kfold\n",
            "Accuracy: 0.9703086419753086\n",
            "Sensitivity/Recall: 1.0\n",
            "Specificity: 0.9422700691121744\n",
            "Precision: 0.9428656126482213\n",
            "F1 Score: 0.970288740593913\n",
            "Matthews Correlation Coefficient: 0.9425567475814098\n",
            "Cohen’s Kappa: 0.9403988358515047\n",
            "LSTM finished in 8.49 sec\n",
            "\n",
            "Executing Experiment Full\n",
            "Executing Experiment Full\n",
            "Feature Extraction\n"
          ]
        },
        {
          "output_type": "display_data",
          "data": {
            "text/plain": [
              "  0%|          | 0/7067 [00:00<?, ?it/s]"
            ],
            "application/vnd.jupyter.widget-view+json": {
              "version_major": 2,
              "version_minor": 0,
              "model_id": "e814ed3338cb467398a9adcc9b7e2efd"
            }
          },
          "metadata": {}
        },
        {
          "output_type": "stream",
          "name": "stderr",
          "text": [
            "/usr/local/lib/python3.8/dist-packages/pandas/core/indexing.py:1684: PerformanceWarning: DataFrame is highly fragmented.  This is usually the result of calling `frame.insert` many times, which has poor performance.  Consider joining all columns at once using pd.concat(axis=1) instead.  To get a de-fragmented frame, use `newframe = frame.copy()`\n",
            "  self.obj[key] = infer_fill_value(value)\n"
          ]
        },
        {
          "output_type": "stream",
          "name": "stdout",
          "text": [
            "Normalized features\n",
            "Reducing features dimension\n",
            "Dimensions reduced from (7057, 289) to (7052, 90)\n",
            "Undersampling the majority class using ClusterCentroids\n",
            "Majority class downsampled from (7012, 90) to (240, 90)\n",
            "Oversampling the minority class using ADASYN\n",
            "Minority class upsampled from (240, 90) to (407, 90)\n",
            "Writing features to a csv file\n",
            "\n",
            "Implementing SVM method...\n",
            "Method: SVM\n",
            "Accuracy: 0.90625\n",
            "Sensitivity/Recall: 1.0\n",
            "Specificity: 0.8064516129032258\n",
            "Precision: 0.8461538461538461\n",
            "F1 Score: 0.9166666666666666\n",
            "Matthews Correlation Coefficient: 0.8260642432614047\n",
            "Cohen’s Kappa: 0.8112094395280236\n",
            "SVM finished in 0.01 sec\n",
            "\n",
            "Implementing SVM k-fold...\n",
            "Method: SVM Kfold\n",
            "Accuracy: 0.8673592291478471\n",
            "Sensitivity/Recall: 1.0\n",
            "Specificity: 0.7294871794871794\n",
            "Precision: 0.7931526916083758\n",
            "F1 Score: 0.8845522195764322\n",
            "Matthews Correlation Coefficient: 0.760566280580526\n",
            "Cohen’s Kappa: 0.7327950548934765\n",
            "SVM k-fold finished in 0.06 sec\n",
            "\n",
            "Implementing KNN...\n",
            "Method: KNN\n",
            "Accuracy: 0.9765625\n",
            "Sensitivity/Recall: 0.9848484848484849\n",
            "Specificity: 0.967741935483871\n",
            "Precision: 0.9701492537313433\n",
            "F1 Score: 0.9774436090225564\n",
            "Matthews Correlation Coefficient: 0.9531729376131965\n",
            "Cohen’s Kappa: 0.9530562347188264\n",
            "KNN finished in 0.02 sec\n",
            "\n",
            "Implementing KNN k-fold...\n",
            "Method: KNN Kfold\n",
            "Accuracy: 0.9507377295995182\n",
            "Sensitivity/Recall: 1.0\n",
            "Specificity: 0.9014559028869386\n",
            "Precision: 0.9113751835804711\n",
            "F1 Score: 0.9529277549273882\n",
            "Matthews Correlation Coefficient: 0.9063630661014406\n",
            "Cohen’s Kappa: 0.9007787587136411\n",
            "KNN k-fold finished in 0.07 sec\n",
            "\n",
            "Implementing Logistic Regression...\n",
            "Method: Logistic Regression\n",
            "Accuracy: 0.984375\n",
            "Sensitivity/Recall: 1.0\n",
            "Specificity: 0.967741935483871\n",
            "Precision: 0.9705882352941176\n",
            "F1 Score: 0.9850746268656716\n",
            "Matthews Correlation Coefficient: 0.9691640404912907\n",
            "Cohen’s Kappa: 0.9686888454011742\n",
            "Logistic Regression finished in 0.03 sec\n",
            "\n",
            "Implementing Logistic Regression k-fold...\n",
            "Method: Logistic Regression Kfold\n",
            "Accuracy: 0.9409816320385426\n",
            "Sensitivity/Recall: 1.0\n",
            "Specificity: 0.8776870713605721\n",
            "Precision: 0.8958862433862433\n",
            "F1 Score: 0.9449509016056883\n",
            "Matthews Correlation Coefficient: 0.8866451346676376\n",
            "Cohen’s Kappa: 0.8800171574399457\n",
            "Logistic Regression k-fold finished in 0.16 sec\n",
            "\n",
            "Implementing LSTM...\n",
            "13/13 [==============================] - 0s 2ms/step\n",
            "Method: LSTM\n",
            "Accuracy: 0.984375\n",
            "Sensitivity/Recall: 1.0\n",
            "Specificity: 0.967741935483871\n",
            "Precision: 0.9705882352941176\n",
            "F1 Score: 0.9850746268656716\n",
            "Matthews Correlation Coefficient: 0.9691640404912907\n",
            "Cohen’s Kappa: 0.9686888454011742\n",
            "LSTM finished in 11.27 sec\n",
            "\n",
            "Implementing LSTM k-fold...\n",
            "9/9 [==============================] - 0s 2ms/step\n",
            "9/9 [==============================] - 0s 2ms/step\n",
            "9/9 [==============================] - 0s 3ms/step\n",
            "9/9 [==============================] - 0s 3ms/step\n",
            "9/9 [==============================] - 0s 2ms/step\n",
            "Method: LSTM Kfold\n",
            "Accuracy: 0.9975609756097562\n",
            "Sensitivity/Recall: 1.0\n",
            "Specificity: 0.9956521739130434\n",
            "Precision: 0.9945945945945945\n",
            "F1 Score: 0.9972602739726029\n",
            "Matthews Correlation Coefficient: 0.99512266773535\n",
            "Cohen’s Kappa: 0.9950632149307646\n",
            "LSTM finished in 12.19 sec\n",
            "\n"
          ]
        }
      ]
    },
    {
      "cell_type": "code",
      "source": [
        "df_full = pd.read_csv('Full.csv', delimiter = ',', header = 0)\n",
        "df_avg = pd.read_csv('Average.csv', delimiter = ',', header = 0)\n",
        "df_left_right= pd.read_csv('LeftRight.csv', delimiter = ',', header = 0)\n"
      ],
      "metadata": {
        "id": "DY-BTxP9tkZO"
      },
      "execution_count": null,
      "outputs": []
    },
    {
      "cell_type": "code",
      "source": [
        "df_full"
      ],
      "metadata": {
        "colab": {
          "base_uri": "https://localhost:8080/",
          "height": 300
        },
        "id": "f_6-9yAlyfUR",
        "outputId": "f31a2880-44e4-4999-ef9c-583e4dfa9acc"
      },
      "execution_count": null,
      "outputs": [
        {
          "output_type": "execute_result",
          "data": {
            "text/plain": [
              "                  Unnamed: 0  Accuracy  Sensitivity  Specificity  Precision  \\\n",
              "0                        SVM  0.906250     1.000000     0.806452   0.846154   \n",
              "1                  SVM Kfold  0.867359     1.000000     0.729487   0.793153   \n",
              "2                        KNN  0.976562     0.984848     0.967742   0.970149   \n",
              "3                  KNN Kfold  0.950738     1.000000     0.901456   0.911375   \n",
              "4        Logistic Regression  0.984375     1.000000     0.967742   0.970588   \n",
              "5  Logistic Regression Kfold  0.940982     1.000000     0.877687   0.895886   \n",
              "6                       LSTM  0.984375     1.000000     0.967742   0.970588   \n",
              "7                 LSTM Kfold  0.997561     1.000000     0.995652   0.994595   \n",
              "\n",
              "   F1 Score       MCC     Kappa   Time  \n",
              "0  0.916667  0.826064  0.811209   0.01  \n",
              "1  0.884552  0.760566  0.732795   0.06  \n",
              "2  0.977444  0.953173  0.953056   0.02  \n",
              "3  0.952928  0.906363  0.900779   0.07  \n",
              "4  0.985075  0.969164  0.968689   0.03  \n",
              "5  0.944951  0.886645  0.880017   0.16  \n",
              "6  0.985075  0.969164  0.968689  11.27  \n",
              "7  0.997260  0.995123  0.995063  12.19  "
            ],
            "text/html": [
              "\n",
              "  <div id=\"df-c2faa9ff-70ef-43af-8247-8b0dad36375f\">\n",
              "    <div class=\"colab-df-container\">\n",
              "      <div>\n",
              "<style scoped>\n",
              "    .dataframe tbody tr th:only-of-type {\n",
              "        vertical-align: middle;\n",
              "    }\n",
              "\n",
              "    .dataframe tbody tr th {\n",
              "        vertical-align: top;\n",
              "    }\n",
              "\n",
              "    .dataframe thead th {\n",
              "        text-align: right;\n",
              "    }\n",
              "</style>\n",
              "<table border=\"1\" class=\"dataframe\">\n",
              "  <thead>\n",
              "    <tr style=\"text-align: right;\">\n",
              "      <th></th>\n",
              "      <th>Unnamed: 0</th>\n",
              "      <th>Accuracy</th>\n",
              "      <th>Sensitivity</th>\n",
              "      <th>Specificity</th>\n",
              "      <th>Precision</th>\n",
              "      <th>F1 Score</th>\n",
              "      <th>MCC</th>\n",
              "      <th>Kappa</th>\n",
              "      <th>Time</th>\n",
              "    </tr>\n",
              "  </thead>\n",
              "  <tbody>\n",
              "    <tr>\n",
              "      <th>0</th>\n",
              "      <td>SVM</td>\n",
              "      <td>0.906250</td>\n",
              "      <td>1.000000</td>\n",
              "      <td>0.806452</td>\n",
              "      <td>0.846154</td>\n",
              "      <td>0.916667</td>\n",
              "      <td>0.826064</td>\n",
              "      <td>0.811209</td>\n",
              "      <td>0.01</td>\n",
              "    </tr>\n",
              "    <tr>\n",
              "      <th>1</th>\n",
              "      <td>SVM Kfold</td>\n",
              "      <td>0.867359</td>\n",
              "      <td>1.000000</td>\n",
              "      <td>0.729487</td>\n",
              "      <td>0.793153</td>\n",
              "      <td>0.884552</td>\n",
              "      <td>0.760566</td>\n",
              "      <td>0.732795</td>\n",
              "      <td>0.06</td>\n",
              "    </tr>\n",
              "    <tr>\n",
              "      <th>2</th>\n",
              "      <td>KNN</td>\n",
              "      <td>0.976562</td>\n",
              "      <td>0.984848</td>\n",
              "      <td>0.967742</td>\n",
              "      <td>0.970149</td>\n",
              "      <td>0.977444</td>\n",
              "      <td>0.953173</td>\n",
              "      <td>0.953056</td>\n",
              "      <td>0.02</td>\n",
              "    </tr>\n",
              "    <tr>\n",
              "      <th>3</th>\n",
              "      <td>KNN Kfold</td>\n",
              "      <td>0.950738</td>\n",
              "      <td>1.000000</td>\n",
              "      <td>0.901456</td>\n",
              "      <td>0.911375</td>\n",
              "      <td>0.952928</td>\n",
              "      <td>0.906363</td>\n",
              "      <td>0.900779</td>\n",
              "      <td>0.07</td>\n",
              "    </tr>\n",
              "    <tr>\n",
              "      <th>4</th>\n",
              "      <td>Logistic Regression</td>\n",
              "      <td>0.984375</td>\n",
              "      <td>1.000000</td>\n",
              "      <td>0.967742</td>\n",
              "      <td>0.970588</td>\n",
              "      <td>0.985075</td>\n",
              "      <td>0.969164</td>\n",
              "      <td>0.968689</td>\n",
              "      <td>0.03</td>\n",
              "    </tr>\n",
              "    <tr>\n",
              "      <th>5</th>\n",
              "      <td>Logistic Regression Kfold</td>\n",
              "      <td>0.940982</td>\n",
              "      <td>1.000000</td>\n",
              "      <td>0.877687</td>\n",
              "      <td>0.895886</td>\n",
              "      <td>0.944951</td>\n",
              "      <td>0.886645</td>\n",
              "      <td>0.880017</td>\n",
              "      <td>0.16</td>\n",
              "    </tr>\n",
              "    <tr>\n",
              "      <th>6</th>\n",
              "      <td>LSTM</td>\n",
              "      <td>0.984375</td>\n",
              "      <td>1.000000</td>\n",
              "      <td>0.967742</td>\n",
              "      <td>0.970588</td>\n",
              "      <td>0.985075</td>\n",
              "      <td>0.969164</td>\n",
              "      <td>0.968689</td>\n",
              "      <td>11.27</td>\n",
              "    </tr>\n",
              "    <tr>\n",
              "      <th>7</th>\n",
              "      <td>LSTM Kfold</td>\n",
              "      <td>0.997561</td>\n",
              "      <td>1.000000</td>\n",
              "      <td>0.995652</td>\n",
              "      <td>0.994595</td>\n",
              "      <td>0.997260</td>\n",
              "      <td>0.995123</td>\n",
              "      <td>0.995063</td>\n",
              "      <td>12.19</td>\n",
              "    </tr>\n",
              "  </tbody>\n",
              "</table>\n",
              "</div>\n",
              "      <button class=\"colab-df-convert\" onclick=\"convertToInteractive('df-c2faa9ff-70ef-43af-8247-8b0dad36375f')\"\n",
              "              title=\"Convert this dataframe to an interactive table.\"\n",
              "              style=\"display:none;\">\n",
              "        \n",
              "  <svg xmlns=\"http://www.w3.org/2000/svg\" height=\"24px\"viewBox=\"0 0 24 24\"\n",
              "       width=\"24px\">\n",
              "    <path d=\"M0 0h24v24H0V0z\" fill=\"none\"/>\n",
              "    <path d=\"M18.56 5.44l.94 2.06.94-2.06 2.06-.94-2.06-.94-.94-2.06-.94 2.06-2.06.94zm-11 1L8.5 8.5l.94-2.06 2.06-.94-2.06-.94L8.5 2.5l-.94 2.06-2.06.94zm10 10l.94 2.06.94-2.06 2.06-.94-2.06-.94-.94-2.06-.94 2.06-2.06.94z\"/><path d=\"M17.41 7.96l-1.37-1.37c-.4-.4-.92-.59-1.43-.59-.52 0-1.04.2-1.43.59L10.3 9.45l-7.72 7.72c-.78.78-.78 2.05 0 2.83L4 21.41c.39.39.9.59 1.41.59.51 0 1.02-.2 1.41-.59l7.78-7.78 2.81-2.81c.8-.78.8-2.07 0-2.86zM5.41 20L4 18.59l7.72-7.72 1.47 1.35L5.41 20z\"/>\n",
              "  </svg>\n",
              "      </button>\n",
              "      \n",
              "  <style>\n",
              "    .colab-df-container {\n",
              "      display:flex;\n",
              "      flex-wrap:wrap;\n",
              "      gap: 12px;\n",
              "    }\n",
              "\n",
              "    .colab-df-convert {\n",
              "      background-color: #E8F0FE;\n",
              "      border: none;\n",
              "      border-radius: 50%;\n",
              "      cursor: pointer;\n",
              "      display: none;\n",
              "      fill: #1967D2;\n",
              "      height: 32px;\n",
              "      padding: 0 0 0 0;\n",
              "      width: 32px;\n",
              "    }\n",
              "\n",
              "    .colab-df-convert:hover {\n",
              "      background-color: #E2EBFA;\n",
              "      box-shadow: 0px 1px 2px rgba(60, 64, 67, 0.3), 0px 1px 3px 1px rgba(60, 64, 67, 0.15);\n",
              "      fill: #174EA6;\n",
              "    }\n",
              "\n",
              "    [theme=dark] .colab-df-convert {\n",
              "      background-color: #3B4455;\n",
              "      fill: #D2E3FC;\n",
              "    }\n",
              "\n",
              "    [theme=dark] .colab-df-convert:hover {\n",
              "      background-color: #434B5C;\n",
              "      box-shadow: 0px 1px 3px 1px rgba(0, 0, 0, 0.15);\n",
              "      filter: drop-shadow(0px 1px 2px rgba(0, 0, 0, 0.3));\n",
              "      fill: #FFFFFF;\n",
              "    }\n",
              "  </style>\n",
              "\n",
              "      <script>\n",
              "        const buttonEl =\n",
              "          document.querySelector('#df-c2faa9ff-70ef-43af-8247-8b0dad36375f button.colab-df-convert');\n",
              "        buttonEl.style.display =\n",
              "          google.colab.kernel.accessAllowed ? 'block' : 'none';\n",
              "\n",
              "        async function convertToInteractive(key) {\n",
              "          const element = document.querySelector('#df-c2faa9ff-70ef-43af-8247-8b0dad36375f');\n",
              "          const dataTable =\n",
              "            await google.colab.kernel.invokeFunction('convertToInteractive',\n",
              "                                                     [key], {});\n",
              "          if (!dataTable) return;\n",
              "\n",
              "          const docLinkHtml = 'Like what you see? Visit the ' +\n",
              "            '<a target=\"_blank\" href=https://colab.research.google.com/notebooks/data_table.ipynb>data table notebook</a>'\n",
              "            + ' to learn more about interactive tables.';\n",
              "          element.innerHTML = '';\n",
              "          dataTable['output_type'] = 'display_data';\n",
              "          await google.colab.output.renderOutput(dataTable, element);\n",
              "          const docLink = document.createElement('div');\n",
              "          docLink.innerHTML = docLinkHtml;\n",
              "          element.appendChild(docLink);\n",
              "        }\n",
              "      </script>\n",
              "    </div>\n",
              "  </div>\n",
              "  "
            ]
          },
          "metadata": {},
          "execution_count": 78
        }
      ]
    },
    {
      "cell_type": "code",
      "source": [
        "df_avg"
      ],
      "metadata": {
        "colab": {
          "base_uri": "https://localhost:8080/",
          "height": 300
        },
        "id": "EPmjo_nNyg7x",
        "outputId": "2dfe690e-ede6-4d50-899c-96a752b67730"
      },
      "execution_count": null,
      "outputs": [
        {
          "output_type": "execute_result",
          "data": {
            "text/plain": [
              "                  Unnamed: 0  Accuracy  Sensitivity  Specificity  Precision  \\\n",
              "0                        SVM  0.812500     1.000000     0.600000   0.739130   \n",
              "1                  SVM Kfold  0.834959     1.000000     0.662361   0.749707   \n",
              "2                        KNN  0.914062     0.985294     0.833333   0.870130   \n",
              "3                  KNN Kfold  0.906384     1.000000     0.807773   0.850953   \n",
              "4        Logistic Regression  0.914062     1.000000     0.816667   0.860759   \n",
              "5  Logistic Regression Kfold  0.904065     0.995238     0.813427   0.844637   \n",
              "6                       LSTM  0.929688     0.970588     0.883333   0.904110   \n",
              "7                 LSTM Kfold  0.933514     1.000000     0.863581   0.884584   \n",
              "\n",
              "   F1 Score       MCC     Kappa   Time  \n",
              "0  0.850000  0.665942  0.614458   0.01  \n",
              "1  0.855422  0.703655  0.661896   0.10  \n",
              "2  0.924138  0.834422  0.825915   0.01  \n",
              "3  0.917926  0.828840  0.811074   0.05  \n",
              "4  0.925170  0.838423  0.825570   0.01  \n",
              "5  0.912645  0.823637  0.808382   0.05  \n",
              "6  0.936170  0.860806  0.858128  23.66  \n",
              "7  0.938364  0.873918  0.865345   7.82  "
            ],
            "text/html": [
              "\n",
              "  <div id=\"df-37fa1977-55a9-4507-9171-c8ce8485a0d5\">\n",
              "    <div class=\"colab-df-container\">\n",
              "      <div>\n",
              "<style scoped>\n",
              "    .dataframe tbody tr th:only-of-type {\n",
              "        vertical-align: middle;\n",
              "    }\n",
              "\n",
              "    .dataframe tbody tr th {\n",
              "        vertical-align: top;\n",
              "    }\n",
              "\n",
              "    .dataframe thead th {\n",
              "        text-align: right;\n",
              "    }\n",
              "</style>\n",
              "<table border=\"1\" class=\"dataframe\">\n",
              "  <thead>\n",
              "    <tr style=\"text-align: right;\">\n",
              "      <th></th>\n",
              "      <th>Unnamed: 0</th>\n",
              "      <th>Accuracy</th>\n",
              "      <th>Sensitivity</th>\n",
              "      <th>Specificity</th>\n",
              "      <th>Precision</th>\n",
              "      <th>F1 Score</th>\n",
              "      <th>MCC</th>\n",
              "      <th>Kappa</th>\n",
              "      <th>Time</th>\n",
              "    </tr>\n",
              "  </thead>\n",
              "  <tbody>\n",
              "    <tr>\n",
              "      <th>0</th>\n",
              "      <td>SVM</td>\n",
              "      <td>0.812500</td>\n",
              "      <td>1.000000</td>\n",
              "      <td>0.600000</td>\n",
              "      <td>0.739130</td>\n",
              "      <td>0.850000</td>\n",
              "      <td>0.665942</td>\n",
              "      <td>0.614458</td>\n",
              "      <td>0.01</td>\n",
              "    </tr>\n",
              "    <tr>\n",
              "      <th>1</th>\n",
              "      <td>SVM Kfold</td>\n",
              "      <td>0.834959</td>\n",
              "      <td>1.000000</td>\n",
              "      <td>0.662361</td>\n",
              "      <td>0.749707</td>\n",
              "      <td>0.855422</td>\n",
              "      <td>0.703655</td>\n",
              "      <td>0.661896</td>\n",
              "      <td>0.10</td>\n",
              "    </tr>\n",
              "    <tr>\n",
              "      <th>2</th>\n",
              "      <td>KNN</td>\n",
              "      <td>0.914062</td>\n",
              "      <td>0.985294</td>\n",
              "      <td>0.833333</td>\n",
              "      <td>0.870130</td>\n",
              "      <td>0.924138</td>\n",
              "      <td>0.834422</td>\n",
              "      <td>0.825915</td>\n",
              "      <td>0.01</td>\n",
              "    </tr>\n",
              "    <tr>\n",
              "      <th>3</th>\n",
              "      <td>KNN Kfold</td>\n",
              "      <td>0.906384</td>\n",
              "      <td>1.000000</td>\n",
              "      <td>0.807773</td>\n",
              "      <td>0.850953</td>\n",
              "      <td>0.917926</td>\n",
              "      <td>0.828840</td>\n",
              "      <td>0.811074</td>\n",
              "      <td>0.05</td>\n",
              "    </tr>\n",
              "    <tr>\n",
              "      <th>4</th>\n",
              "      <td>Logistic Regression</td>\n",
              "      <td>0.914062</td>\n",
              "      <td>1.000000</td>\n",
              "      <td>0.816667</td>\n",
              "      <td>0.860759</td>\n",
              "      <td>0.925170</td>\n",
              "      <td>0.838423</td>\n",
              "      <td>0.825570</td>\n",
              "      <td>0.01</td>\n",
              "    </tr>\n",
              "    <tr>\n",
              "      <th>5</th>\n",
              "      <td>Logistic Regression Kfold</td>\n",
              "      <td>0.904065</td>\n",
              "      <td>0.995238</td>\n",
              "      <td>0.813427</td>\n",
              "      <td>0.844637</td>\n",
              "      <td>0.912645</td>\n",
              "      <td>0.823637</td>\n",
              "      <td>0.808382</td>\n",
              "      <td>0.05</td>\n",
              "    </tr>\n",
              "    <tr>\n",
              "      <th>6</th>\n",
              "      <td>LSTM</td>\n",
              "      <td>0.929688</td>\n",
              "      <td>0.970588</td>\n",
              "      <td>0.883333</td>\n",
              "      <td>0.904110</td>\n",
              "      <td>0.936170</td>\n",
              "      <td>0.860806</td>\n",
              "      <td>0.858128</td>\n",
              "      <td>23.66</td>\n",
              "    </tr>\n",
              "    <tr>\n",
              "      <th>7</th>\n",
              "      <td>LSTM Kfold</td>\n",
              "      <td>0.933514</td>\n",
              "      <td>1.000000</td>\n",
              "      <td>0.863581</td>\n",
              "      <td>0.884584</td>\n",
              "      <td>0.938364</td>\n",
              "      <td>0.873918</td>\n",
              "      <td>0.865345</td>\n",
              "      <td>7.82</td>\n",
              "    </tr>\n",
              "  </tbody>\n",
              "</table>\n",
              "</div>\n",
              "      <button class=\"colab-df-convert\" onclick=\"convertToInteractive('df-37fa1977-55a9-4507-9171-c8ce8485a0d5')\"\n",
              "              title=\"Convert this dataframe to an interactive table.\"\n",
              "              style=\"display:none;\">\n",
              "        \n",
              "  <svg xmlns=\"http://www.w3.org/2000/svg\" height=\"24px\"viewBox=\"0 0 24 24\"\n",
              "       width=\"24px\">\n",
              "    <path d=\"M0 0h24v24H0V0z\" fill=\"none\"/>\n",
              "    <path d=\"M18.56 5.44l.94 2.06.94-2.06 2.06-.94-2.06-.94-.94-2.06-.94 2.06-2.06.94zm-11 1L8.5 8.5l.94-2.06 2.06-.94-2.06-.94L8.5 2.5l-.94 2.06-2.06.94zm10 10l.94 2.06.94-2.06 2.06-.94-2.06-.94-.94-2.06-.94 2.06-2.06.94z\"/><path d=\"M17.41 7.96l-1.37-1.37c-.4-.4-.92-.59-1.43-.59-.52 0-1.04.2-1.43.59L10.3 9.45l-7.72 7.72c-.78.78-.78 2.05 0 2.83L4 21.41c.39.39.9.59 1.41.59.51 0 1.02-.2 1.41-.59l7.78-7.78 2.81-2.81c.8-.78.8-2.07 0-2.86zM5.41 20L4 18.59l7.72-7.72 1.47 1.35L5.41 20z\"/>\n",
              "  </svg>\n",
              "      </button>\n",
              "      \n",
              "  <style>\n",
              "    .colab-df-container {\n",
              "      display:flex;\n",
              "      flex-wrap:wrap;\n",
              "      gap: 12px;\n",
              "    }\n",
              "\n",
              "    .colab-df-convert {\n",
              "      background-color: #E8F0FE;\n",
              "      border: none;\n",
              "      border-radius: 50%;\n",
              "      cursor: pointer;\n",
              "      display: none;\n",
              "      fill: #1967D2;\n",
              "      height: 32px;\n",
              "      padding: 0 0 0 0;\n",
              "      width: 32px;\n",
              "    }\n",
              "\n",
              "    .colab-df-convert:hover {\n",
              "      background-color: #E2EBFA;\n",
              "      box-shadow: 0px 1px 2px rgba(60, 64, 67, 0.3), 0px 1px 3px 1px rgba(60, 64, 67, 0.15);\n",
              "      fill: #174EA6;\n",
              "    }\n",
              "\n",
              "    [theme=dark] .colab-df-convert {\n",
              "      background-color: #3B4455;\n",
              "      fill: #D2E3FC;\n",
              "    }\n",
              "\n",
              "    [theme=dark] .colab-df-convert:hover {\n",
              "      background-color: #434B5C;\n",
              "      box-shadow: 0px 1px 3px 1px rgba(0, 0, 0, 0.15);\n",
              "      filter: drop-shadow(0px 1px 2px rgba(0, 0, 0, 0.3));\n",
              "      fill: #FFFFFF;\n",
              "    }\n",
              "  </style>\n",
              "\n",
              "      <script>\n",
              "        const buttonEl =\n",
              "          document.querySelector('#df-37fa1977-55a9-4507-9171-c8ce8485a0d5 button.colab-df-convert');\n",
              "        buttonEl.style.display =\n",
              "          google.colab.kernel.accessAllowed ? 'block' : 'none';\n",
              "\n",
              "        async function convertToInteractive(key) {\n",
              "          const element = document.querySelector('#df-37fa1977-55a9-4507-9171-c8ce8485a0d5');\n",
              "          const dataTable =\n",
              "            await google.colab.kernel.invokeFunction('convertToInteractive',\n",
              "                                                     [key], {});\n",
              "          if (!dataTable) return;\n",
              "\n",
              "          const docLinkHtml = 'Like what you see? Visit the ' +\n",
              "            '<a target=\"_blank\" href=https://colab.research.google.com/notebooks/data_table.ipynb>data table notebook</a>'\n",
              "            + ' to learn more about interactive tables.';\n",
              "          element.innerHTML = '';\n",
              "          dataTable['output_type'] = 'display_data';\n",
              "          await google.colab.output.renderOutput(dataTable, element);\n",
              "          const docLink = document.createElement('div');\n",
              "          docLink.innerHTML = docLinkHtml;\n",
              "          element.appendChild(docLink);\n",
              "        }\n",
              "      </script>\n",
              "    </div>\n",
              "  </div>\n",
              "  "
            ]
          },
          "metadata": {},
          "execution_count": 81
        }
      ]
    },
    {
      "cell_type": "code",
      "source": [
        "df_left_right"
      ],
      "metadata": {
        "colab": {
          "base_uri": "https://localhost:8080/",
          "height": 300
        },
        "id": "lgc99iS3y7xn",
        "outputId": "0714b948-ceac-4a3f-8088-1c550704ccd5"
      },
      "execution_count": null,
      "outputs": [
        {
          "output_type": "execute_result",
          "data": {
            "text/plain": [
              "                  Unnamed: 0  Accuracy  Sensitivity  Specificity  Precision  \\\n",
              "0                        SVM  0.874016     1.000000     0.719298   0.813953   \n",
              "1                  SVM Kfold  0.841327     1.000000     0.675510   0.762375   \n",
              "2                        KNN  0.937008     1.000000     0.859649   0.897436   \n",
              "3                  KNN Kfold  0.895772     0.995238     0.796410   0.833235   \n",
              "4        Logistic Regression  0.929134     0.985714     0.859649   0.896104   \n",
              "5  Logistic Regression Kfold  0.903302     0.995349     0.809351   0.840960   \n",
              "6                       LSTM  0.944882     0.985714     0.894737   0.920000   \n",
              "7                 LSTM Kfold  0.970309     1.000000     0.942270   0.942866   \n",
              "\n",
              "   F1 Score       MCC     Kappa   Time  \n",
              "0  0.897436  0.765164  0.738549   0.01  \n",
              "1  0.864433  0.716567  0.677162   0.06  \n",
              "2  0.945946  0.878339  0.871001   0.01  \n",
              "3  0.906041  0.809311  0.791519   0.05  \n",
              "4  0.938776  0.860596  0.855115   0.01  \n",
              "5  0.911374  0.819111  0.804720   0.06  \n",
              "6  0.951724  0.890552  0.887682  11.73  \n",
              "7  0.970289  0.942557  0.940399   8.49  "
            ],
            "text/html": [
              "\n",
              "  <div id=\"df-7d7f3130-31af-447b-be58-790338b89486\">\n",
              "    <div class=\"colab-df-container\">\n",
              "      <div>\n",
              "<style scoped>\n",
              "    .dataframe tbody tr th:only-of-type {\n",
              "        vertical-align: middle;\n",
              "    }\n",
              "\n",
              "    .dataframe tbody tr th {\n",
              "        vertical-align: top;\n",
              "    }\n",
              "\n",
              "    .dataframe thead th {\n",
              "        text-align: right;\n",
              "    }\n",
              "</style>\n",
              "<table border=\"1\" class=\"dataframe\">\n",
              "  <thead>\n",
              "    <tr style=\"text-align: right;\">\n",
              "      <th></th>\n",
              "      <th>Unnamed: 0</th>\n",
              "      <th>Accuracy</th>\n",
              "      <th>Sensitivity</th>\n",
              "      <th>Specificity</th>\n",
              "      <th>Precision</th>\n",
              "      <th>F1 Score</th>\n",
              "      <th>MCC</th>\n",
              "      <th>Kappa</th>\n",
              "      <th>Time</th>\n",
              "    </tr>\n",
              "  </thead>\n",
              "  <tbody>\n",
              "    <tr>\n",
              "      <th>0</th>\n",
              "      <td>SVM</td>\n",
              "      <td>0.874016</td>\n",
              "      <td>1.000000</td>\n",
              "      <td>0.719298</td>\n",
              "      <td>0.813953</td>\n",
              "      <td>0.897436</td>\n",
              "      <td>0.765164</td>\n",
              "      <td>0.738549</td>\n",
              "      <td>0.01</td>\n",
              "    </tr>\n",
              "    <tr>\n",
              "      <th>1</th>\n",
              "      <td>SVM Kfold</td>\n",
              "      <td>0.841327</td>\n",
              "      <td>1.000000</td>\n",
              "      <td>0.675510</td>\n",
              "      <td>0.762375</td>\n",
              "      <td>0.864433</td>\n",
              "      <td>0.716567</td>\n",
              "      <td>0.677162</td>\n",
              "      <td>0.06</td>\n",
              "    </tr>\n",
              "    <tr>\n",
              "      <th>2</th>\n",
              "      <td>KNN</td>\n",
              "      <td>0.937008</td>\n",
              "      <td>1.000000</td>\n",
              "      <td>0.859649</td>\n",
              "      <td>0.897436</td>\n",
              "      <td>0.945946</td>\n",
              "      <td>0.878339</td>\n",
              "      <td>0.871001</td>\n",
              "      <td>0.01</td>\n",
              "    </tr>\n",
              "    <tr>\n",
              "      <th>3</th>\n",
              "      <td>KNN Kfold</td>\n",
              "      <td>0.895772</td>\n",
              "      <td>0.995238</td>\n",
              "      <td>0.796410</td>\n",
              "      <td>0.833235</td>\n",
              "      <td>0.906041</td>\n",
              "      <td>0.809311</td>\n",
              "      <td>0.791519</td>\n",
              "      <td>0.05</td>\n",
              "    </tr>\n",
              "    <tr>\n",
              "      <th>4</th>\n",
              "      <td>Logistic Regression</td>\n",
              "      <td>0.929134</td>\n",
              "      <td>0.985714</td>\n",
              "      <td>0.859649</td>\n",
              "      <td>0.896104</td>\n",
              "      <td>0.938776</td>\n",
              "      <td>0.860596</td>\n",
              "      <td>0.855115</td>\n",
              "      <td>0.01</td>\n",
              "    </tr>\n",
              "    <tr>\n",
              "      <th>5</th>\n",
              "      <td>Logistic Regression Kfold</td>\n",
              "      <td>0.903302</td>\n",
              "      <td>0.995349</td>\n",
              "      <td>0.809351</td>\n",
              "      <td>0.840960</td>\n",
              "      <td>0.911374</td>\n",
              "      <td>0.819111</td>\n",
              "      <td>0.804720</td>\n",
              "      <td>0.06</td>\n",
              "    </tr>\n",
              "    <tr>\n",
              "      <th>6</th>\n",
              "      <td>LSTM</td>\n",
              "      <td>0.944882</td>\n",
              "      <td>0.985714</td>\n",
              "      <td>0.894737</td>\n",
              "      <td>0.920000</td>\n",
              "      <td>0.951724</td>\n",
              "      <td>0.890552</td>\n",
              "      <td>0.887682</td>\n",
              "      <td>11.73</td>\n",
              "    </tr>\n",
              "    <tr>\n",
              "      <th>7</th>\n",
              "      <td>LSTM Kfold</td>\n",
              "      <td>0.970309</td>\n",
              "      <td>1.000000</td>\n",
              "      <td>0.942270</td>\n",
              "      <td>0.942866</td>\n",
              "      <td>0.970289</td>\n",
              "      <td>0.942557</td>\n",
              "      <td>0.940399</td>\n",
              "      <td>8.49</td>\n",
              "    </tr>\n",
              "  </tbody>\n",
              "</table>\n",
              "</div>\n",
              "      <button class=\"colab-df-convert\" onclick=\"convertToInteractive('df-7d7f3130-31af-447b-be58-790338b89486')\"\n",
              "              title=\"Convert this dataframe to an interactive table.\"\n",
              "              style=\"display:none;\">\n",
              "        \n",
              "  <svg xmlns=\"http://www.w3.org/2000/svg\" height=\"24px\"viewBox=\"0 0 24 24\"\n",
              "       width=\"24px\">\n",
              "    <path d=\"M0 0h24v24H0V0z\" fill=\"none\"/>\n",
              "    <path d=\"M18.56 5.44l.94 2.06.94-2.06 2.06-.94-2.06-.94-.94-2.06-.94 2.06-2.06.94zm-11 1L8.5 8.5l.94-2.06 2.06-.94-2.06-.94L8.5 2.5l-.94 2.06-2.06.94zm10 10l.94 2.06.94-2.06 2.06-.94-2.06-.94-.94-2.06-.94 2.06-2.06.94z\"/><path d=\"M17.41 7.96l-1.37-1.37c-.4-.4-.92-.59-1.43-.59-.52 0-1.04.2-1.43.59L10.3 9.45l-7.72 7.72c-.78.78-.78 2.05 0 2.83L4 21.41c.39.39.9.59 1.41.59.51 0 1.02-.2 1.41-.59l7.78-7.78 2.81-2.81c.8-.78.8-2.07 0-2.86zM5.41 20L4 18.59l7.72-7.72 1.47 1.35L5.41 20z\"/>\n",
              "  </svg>\n",
              "      </button>\n",
              "      \n",
              "  <style>\n",
              "    .colab-df-container {\n",
              "      display:flex;\n",
              "      flex-wrap:wrap;\n",
              "      gap: 12px;\n",
              "    }\n",
              "\n",
              "    .colab-df-convert {\n",
              "      background-color: #E8F0FE;\n",
              "      border: none;\n",
              "      border-radius: 50%;\n",
              "      cursor: pointer;\n",
              "      display: none;\n",
              "      fill: #1967D2;\n",
              "      height: 32px;\n",
              "      padding: 0 0 0 0;\n",
              "      width: 32px;\n",
              "    }\n",
              "\n",
              "    .colab-df-convert:hover {\n",
              "      background-color: #E2EBFA;\n",
              "      box-shadow: 0px 1px 2px rgba(60, 64, 67, 0.3), 0px 1px 3px 1px rgba(60, 64, 67, 0.15);\n",
              "      fill: #174EA6;\n",
              "    }\n",
              "\n",
              "    [theme=dark] .colab-df-convert {\n",
              "      background-color: #3B4455;\n",
              "      fill: #D2E3FC;\n",
              "    }\n",
              "\n",
              "    [theme=dark] .colab-df-convert:hover {\n",
              "      background-color: #434B5C;\n",
              "      box-shadow: 0px 1px 3px 1px rgba(0, 0, 0, 0.15);\n",
              "      filter: drop-shadow(0px 1px 2px rgba(0, 0, 0, 0.3));\n",
              "      fill: #FFFFFF;\n",
              "    }\n",
              "  </style>\n",
              "\n",
              "      <script>\n",
              "        const buttonEl =\n",
              "          document.querySelector('#df-7d7f3130-31af-447b-be58-790338b89486 button.colab-df-convert');\n",
              "        buttonEl.style.display =\n",
              "          google.colab.kernel.accessAllowed ? 'block' : 'none';\n",
              "\n",
              "        async function convertToInteractive(key) {\n",
              "          const element = document.querySelector('#df-7d7f3130-31af-447b-be58-790338b89486');\n",
              "          const dataTable =\n",
              "            await google.colab.kernel.invokeFunction('convertToInteractive',\n",
              "                                                     [key], {});\n",
              "          if (!dataTable) return;\n",
              "\n",
              "          const docLinkHtml = 'Like what you see? Visit the ' +\n",
              "            '<a target=\"_blank\" href=https://colab.research.google.com/notebooks/data_table.ipynb>data table notebook</a>'\n",
              "            + ' to learn more about interactive tables.';\n",
              "          element.innerHTML = '';\n",
              "          dataTable['output_type'] = 'display_data';\n",
              "          await google.colab.output.renderOutput(dataTable, element);\n",
              "          const docLink = document.createElement('div');\n",
              "          docLink.innerHTML = docLinkHtml;\n",
              "          element.appendChild(docLink);\n",
              "        }\n",
              "      </script>\n",
              "    </div>\n",
              "  </div>\n",
              "  "
            ]
          },
          "metadata": {},
          "execution_count": 83
        }
      ]
    }
  ],
  "metadata": {
    "colab": {
      "provenance": [],
      "toc_visible": true
    },
    "kernelspec": {
      "display_name": "Python 3",
      "name": "python3"
    },
    "language_info": {
      "name": "python"
    },
    "accelerator": "GPU",
    "gpuClass": "standard",
    "widgets": {
      "application/vnd.jupyter.widget-state+json": {
        "7209118c11d54bf7bae3081b39e7288a": {
          "model_module": "@jupyter-widgets/controls",
          "model_name": "HBoxModel",
          "model_module_version": "1.5.0",
          "state": {
            "_dom_classes": [],
            "_model_module": "@jupyter-widgets/controls",
            "_model_module_version": "1.5.0",
            "_model_name": "HBoxModel",
            "_view_count": null,
            "_view_module": "@jupyter-widgets/controls",
            "_view_module_version": "1.5.0",
            "_view_name": "HBoxView",
            "box_style": "",
            "children": [
              "IPY_MODEL_58d21cb212c24555950b8c8251311b97",
              "IPY_MODEL_9dd21a51e2474d9eacdb723564d9f93d",
              "IPY_MODEL_3a6a017872524ade80a83f7ef40be7d0"
            ],
            "layout": "IPY_MODEL_367621bf38634822a9009f701e6f3d2c"
          }
        },
        "58d21cb212c24555950b8c8251311b97": {
          "model_module": "@jupyter-widgets/controls",
          "model_name": "HTMLModel",
          "model_module_version": "1.5.0",
          "state": {
            "_dom_classes": [],
            "_model_module": "@jupyter-widgets/controls",
            "_model_module_version": "1.5.0",
            "_model_name": "HTMLModel",
            "_view_count": null,
            "_view_module": "@jupyter-widgets/controls",
            "_view_module_version": "1.5.0",
            "_view_name": "HTMLView",
            "description": "",
            "description_tooltip": null,
            "layout": "IPY_MODEL_6d11d48ba1354898bd3e15d892440a94",
            "placeholder": "​",
            "style": "IPY_MODEL_b3348822d9684fa3999cb27e79921b79",
            "value": "100%"
          }
        },
        "9dd21a51e2474d9eacdb723564d9f93d": {
          "model_module": "@jupyter-widgets/controls",
          "model_name": "FloatProgressModel",
          "model_module_version": "1.5.0",
          "state": {
            "_dom_classes": [],
            "_model_module": "@jupyter-widgets/controls",
            "_model_module_version": "1.5.0",
            "_model_name": "FloatProgressModel",
            "_view_count": null,
            "_view_module": "@jupyter-widgets/controls",
            "_view_module_version": "1.5.0",
            "_view_name": "ProgressView",
            "bar_style": "success",
            "description": "",
            "description_tooltip": null,
            "layout": "IPY_MODEL_20f6c369a4f348e8ae987c2fedf4b57d",
            "max": 7067,
            "min": 0,
            "orientation": "horizontal",
            "style": "IPY_MODEL_cd607bf780074d2c88cda81b5e09571d",
            "value": 7067
          }
        },
        "3a6a017872524ade80a83f7ef40be7d0": {
          "model_module": "@jupyter-widgets/controls",
          "model_name": "HTMLModel",
          "model_module_version": "1.5.0",
          "state": {
            "_dom_classes": [],
            "_model_module": "@jupyter-widgets/controls",
            "_model_module_version": "1.5.0",
            "_model_name": "HTMLModel",
            "_view_count": null,
            "_view_module": "@jupyter-widgets/controls",
            "_view_module_version": "1.5.0",
            "_view_name": "HTMLView",
            "description": "",
            "description_tooltip": null,
            "layout": "IPY_MODEL_513e0e707b9d40e38ef67780b25f5caa",
            "placeholder": "​",
            "style": "IPY_MODEL_dea110fec966438bbca746de7b4f8487",
            "value": " 7067/7067 [01:44&lt;00:00, 82.92it/s]"
          }
        },
        "367621bf38634822a9009f701e6f3d2c": {
          "model_module": "@jupyter-widgets/base",
          "model_name": "LayoutModel",
          "model_module_version": "1.2.0",
          "state": {
            "_model_module": "@jupyter-widgets/base",
            "_model_module_version": "1.2.0",
            "_model_name": "LayoutModel",
            "_view_count": null,
            "_view_module": "@jupyter-widgets/base",
            "_view_module_version": "1.2.0",
            "_view_name": "LayoutView",
            "align_content": null,
            "align_items": null,
            "align_self": null,
            "border": null,
            "bottom": null,
            "display": null,
            "flex": null,
            "flex_flow": null,
            "grid_area": null,
            "grid_auto_columns": null,
            "grid_auto_flow": null,
            "grid_auto_rows": null,
            "grid_column": null,
            "grid_gap": null,
            "grid_row": null,
            "grid_template_areas": null,
            "grid_template_columns": null,
            "grid_template_rows": null,
            "height": null,
            "justify_content": null,
            "justify_items": null,
            "left": null,
            "margin": null,
            "max_height": null,
            "max_width": null,
            "min_height": null,
            "min_width": null,
            "object_fit": null,
            "object_position": null,
            "order": null,
            "overflow": null,
            "overflow_x": null,
            "overflow_y": null,
            "padding": null,
            "right": null,
            "top": null,
            "visibility": null,
            "width": null
          }
        },
        "6d11d48ba1354898bd3e15d892440a94": {
          "model_module": "@jupyter-widgets/base",
          "model_name": "LayoutModel",
          "model_module_version": "1.2.0",
          "state": {
            "_model_module": "@jupyter-widgets/base",
            "_model_module_version": "1.2.0",
            "_model_name": "LayoutModel",
            "_view_count": null,
            "_view_module": "@jupyter-widgets/base",
            "_view_module_version": "1.2.0",
            "_view_name": "LayoutView",
            "align_content": null,
            "align_items": null,
            "align_self": null,
            "border": null,
            "bottom": null,
            "display": null,
            "flex": null,
            "flex_flow": null,
            "grid_area": null,
            "grid_auto_columns": null,
            "grid_auto_flow": null,
            "grid_auto_rows": null,
            "grid_column": null,
            "grid_gap": null,
            "grid_row": null,
            "grid_template_areas": null,
            "grid_template_columns": null,
            "grid_template_rows": null,
            "height": null,
            "justify_content": null,
            "justify_items": null,
            "left": null,
            "margin": null,
            "max_height": null,
            "max_width": null,
            "min_height": null,
            "min_width": null,
            "object_fit": null,
            "object_position": null,
            "order": null,
            "overflow": null,
            "overflow_x": null,
            "overflow_y": null,
            "padding": null,
            "right": null,
            "top": null,
            "visibility": null,
            "width": null
          }
        },
        "b3348822d9684fa3999cb27e79921b79": {
          "model_module": "@jupyter-widgets/controls",
          "model_name": "DescriptionStyleModel",
          "model_module_version": "1.5.0",
          "state": {
            "_model_module": "@jupyter-widgets/controls",
            "_model_module_version": "1.5.0",
            "_model_name": "DescriptionStyleModel",
            "_view_count": null,
            "_view_module": "@jupyter-widgets/base",
            "_view_module_version": "1.2.0",
            "_view_name": "StyleView",
            "description_width": ""
          }
        },
        "20f6c369a4f348e8ae987c2fedf4b57d": {
          "model_module": "@jupyter-widgets/base",
          "model_name": "LayoutModel",
          "model_module_version": "1.2.0",
          "state": {
            "_model_module": "@jupyter-widgets/base",
            "_model_module_version": "1.2.0",
            "_model_name": "LayoutModel",
            "_view_count": null,
            "_view_module": "@jupyter-widgets/base",
            "_view_module_version": "1.2.0",
            "_view_name": "LayoutView",
            "align_content": null,
            "align_items": null,
            "align_self": null,
            "border": null,
            "bottom": null,
            "display": null,
            "flex": null,
            "flex_flow": null,
            "grid_area": null,
            "grid_auto_columns": null,
            "grid_auto_flow": null,
            "grid_auto_rows": null,
            "grid_column": null,
            "grid_gap": null,
            "grid_row": null,
            "grid_template_areas": null,
            "grid_template_columns": null,
            "grid_template_rows": null,
            "height": null,
            "justify_content": null,
            "justify_items": null,
            "left": null,
            "margin": null,
            "max_height": null,
            "max_width": null,
            "min_height": null,
            "min_width": null,
            "object_fit": null,
            "object_position": null,
            "order": null,
            "overflow": null,
            "overflow_x": null,
            "overflow_y": null,
            "padding": null,
            "right": null,
            "top": null,
            "visibility": null,
            "width": null
          }
        },
        "cd607bf780074d2c88cda81b5e09571d": {
          "model_module": "@jupyter-widgets/controls",
          "model_name": "ProgressStyleModel",
          "model_module_version": "1.5.0",
          "state": {
            "_model_module": "@jupyter-widgets/controls",
            "_model_module_version": "1.5.0",
            "_model_name": "ProgressStyleModel",
            "_view_count": null,
            "_view_module": "@jupyter-widgets/base",
            "_view_module_version": "1.2.0",
            "_view_name": "StyleView",
            "bar_color": null,
            "description_width": ""
          }
        },
        "513e0e707b9d40e38ef67780b25f5caa": {
          "model_module": "@jupyter-widgets/base",
          "model_name": "LayoutModel",
          "model_module_version": "1.2.0",
          "state": {
            "_model_module": "@jupyter-widgets/base",
            "_model_module_version": "1.2.0",
            "_model_name": "LayoutModel",
            "_view_count": null,
            "_view_module": "@jupyter-widgets/base",
            "_view_module_version": "1.2.0",
            "_view_name": "LayoutView",
            "align_content": null,
            "align_items": null,
            "align_self": null,
            "border": null,
            "bottom": null,
            "display": null,
            "flex": null,
            "flex_flow": null,
            "grid_area": null,
            "grid_auto_columns": null,
            "grid_auto_flow": null,
            "grid_auto_rows": null,
            "grid_column": null,
            "grid_gap": null,
            "grid_row": null,
            "grid_template_areas": null,
            "grid_template_columns": null,
            "grid_template_rows": null,
            "height": null,
            "justify_content": null,
            "justify_items": null,
            "left": null,
            "margin": null,
            "max_height": null,
            "max_width": null,
            "min_height": null,
            "min_width": null,
            "object_fit": null,
            "object_position": null,
            "order": null,
            "overflow": null,
            "overflow_x": null,
            "overflow_y": null,
            "padding": null,
            "right": null,
            "top": null,
            "visibility": null,
            "width": null
          }
        },
        "dea110fec966438bbca746de7b4f8487": {
          "model_module": "@jupyter-widgets/controls",
          "model_name": "DescriptionStyleModel",
          "model_module_version": "1.5.0",
          "state": {
            "_model_module": "@jupyter-widgets/controls",
            "_model_module_version": "1.5.0",
            "_model_name": "DescriptionStyleModel",
            "_view_count": null,
            "_view_module": "@jupyter-widgets/base",
            "_view_module_version": "1.2.0",
            "_view_name": "StyleView",
            "description_width": ""
          }
        },
        "568c733f984243cda8530d445e1329f8": {
          "model_module": "@jupyter-widgets/controls",
          "model_name": "HBoxModel",
          "model_module_version": "1.5.0",
          "state": {
            "_dom_classes": [],
            "_model_module": "@jupyter-widgets/controls",
            "_model_module_version": "1.5.0",
            "_model_name": "HBoxModel",
            "_view_count": null,
            "_view_module": "@jupyter-widgets/controls",
            "_view_module_version": "1.5.0",
            "_view_name": "HBoxView",
            "box_style": "",
            "children": [
              "IPY_MODEL_0873060aea2a4ccaae0a68e3b16476bb",
              "IPY_MODEL_56deeb6734a74f4387b9810366e9b6d1",
              "IPY_MODEL_86533886ab7143efbdae94a403c86a1c"
            ],
            "layout": "IPY_MODEL_d5f55923d60b4a93a027473b10adac98"
          }
        },
        "0873060aea2a4ccaae0a68e3b16476bb": {
          "model_module": "@jupyter-widgets/controls",
          "model_name": "HTMLModel",
          "model_module_version": "1.5.0",
          "state": {
            "_dom_classes": [],
            "_model_module": "@jupyter-widgets/controls",
            "_model_module_version": "1.5.0",
            "_model_name": "HTMLModel",
            "_view_count": null,
            "_view_module": "@jupyter-widgets/controls",
            "_view_module_version": "1.5.0",
            "_view_name": "HTMLView",
            "description": "",
            "description_tooltip": null,
            "layout": "IPY_MODEL_ffcba8dd91e0409ab6fc7f5e400f710d",
            "placeholder": "​",
            "style": "IPY_MODEL_520f5552f1544d03bded09f11ef971f2",
            "value": "100%"
          }
        },
        "56deeb6734a74f4387b9810366e9b6d1": {
          "model_module": "@jupyter-widgets/controls",
          "model_name": "FloatProgressModel",
          "model_module_version": "1.5.0",
          "state": {
            "_dom_classes": [],
            "_model_module": "@jupyter-widgets/controls",
            "_model_module_version": "1.5.0",
            "_model_name": "FloatProgressModel",
            "_view_count": null,
            "_view_module": "@jupyter-widgets/controls",
            "_view_module_version": "1.5.0",
            "_view_name": "ProgressView",
            "bar_style": "success",
            "description": "",
            "description_tooltip": null,
            "layout": "IPY_MODEL_a0c6a0d10f66401a98bb2394b7136d8d",
            "max": 7067,
            "min": 0,
            "orientation": "horizontal",
            "style": "IPY_MODEL_a4bbbbcf9f524947a8d43613ff8e97f1",
            "value": 7067
          }
        },
        "86533886ab7143efbdae94a403c86a1c": {
          "model_module": "@jupyter-widgets/controls",
          "model_name": "HTMLModel",
          "model_module_version": "1.5.0",
          "state": {
            "_dom_classes": [],
            "_model_module": "@jupyter-widgets/controls",
            "_model_module_version": "1.5.0",
            "_model_name": "HTMLModel",
            "_view_count": null,
            "_view_module": "@jupyter-widgets/controls",
            "_view_module_version": "1.5.0",
            "_view_name": "HTMLView",
            "description": "",
            "description_tooltip": null,
            "layout": "IPY_MODEL_e32313c8f3c64b2688251b55d956fc3f",
            "placeholder": "​",
            "style": "IPY_MODEL_bf7fba5929ff41b2ba268d947c86718a",
            "value": " 7067/7067 [03:05&lt;00:00, 42.06it/s]"
          }
        },
        "d5f55923d60b4a93a027473b10adac98": {
          "model_module": "@jupyter-widgets/base",
          "model_name": "LayoutModel",
          "model_module_version": "1.2.0",
          "state": {
            "_model_module": "@jupyter-widgets/base",
            "_model_module_version": "1.2.0",
            "_model_name": "LayoutModel",
            "_view_count": null,
            "_view_module": "@jupyter-widgets/base",
            "_view_module_version": "1.2.0",
            "_view_name": "LayoutView",
            "align_content": null,
            "align_items": null,
            "align_self": null,
            "border": null,
            "bottom": null,
            "display": null,
            "flex": null,
            "flex_flow": null,
            "grid_area": null,
            "grid_auto_columns": null,
            "grid_auto_flow": null,
            "grid_auto_rows": null,
            "grid_column": null,
            "grid_gap": null,
            "grid_row": null,
            "grid_template_areas": null,
            "grid_template_columns": null,
            "grid_template_rows": null,
            "height": null,
            "justify_content": null,
            "justify_items": null,
            "left": null,
            "margin": null,
            "max_height": null,
            "max_width": null,
            "min_height": null,
            "min_width": null,
            "object_fit": null,
            "object_position": null,
            "order": null,
            "overflow": null,
            "overflow_x": null,
            "overflow_y": null,
            "padding": null,
            "right": null,
            "top": null,
            "visibility": null,
            "width": null
          }
        },
        "ffcba8dd91e0409ab6fc7f5e400f710d": {
          "model_module": "@jupyter-widgets/base",
          "model_name": "LayoutModel",
          "model_module_version": "1.2.0",
          "state": {
            "_model_module": "@jupyter-widgets/base",
            "_model_module_version": "1.2.0",
            "_model_name": "LayoutModel",
            "_view_count": null,
            "_view_module": "@jupyter-widgets/base",
            "_view_module_version": "1.2.0",
            "_view_name": "LayoutView",
            "align_content": null,
            "align_items": null,
            "align_self": null,
            "border": null,
            "bottom": null,
            "display": null,
            "flex": null,
            "flex_flow": null,
            "grid_area": null,
            "grid_auto_columns": null,
            "grid_auto_flow": null,
            "grid_auto_rows": null,
            "grid_column": null,
            "grid_gap": null,
            "grid_row": null,
            "grid_template_areas": null,
            "grid_template_columns": null,
            "grid_template_rows": null,
            "height": null,
            "justify_content": null,
            "justify_items": null,
            "left": null,
            "margin": null,
            "max_height": null,
            "max_width": null,
            "min_height": null,
            "min_width": null,
            "object_fit": null,
            "object_position": null,
            "order": null,
            "overflow": null,
            "overflow_x": null,
            "overflow_y": null,
            "padding": null,
            "right": null,
            "top": null,
            "visibility": null,
            "width": null
          }
        },
        "520f5552f1544d03bded09f11ef971f2": {
          "model_module": "@jupyter-widgets/controls",
          "model_name": "DescriptionStyleModel",
          "model_module_version": "1.5.0",
          "state": {
            "_model_module": "@jupyter-widgets/controls",
            "_model_module_version": "1.5.0",
            "_model_name": "DescriptionStyleModel",
            "_view_count": null,
            "_view_module": "@jupyter-widgets/base",
            "_view_module_version": "1.2.0",
            "_view_name": "StyleView",
            "description_width": ""
          }
        },
        "a0c6a0d10f66401a98bb2394b7136d8d": {
          "model_module": "@jupyter-widgets/base",
          "model_name": "LayoutModel",
          "model_module_version": "1.2.0",
          "state": {
            "_model_module": "@jupyter-widgets/base",
            "_model_module_version": "1.2.0",
            "_model_name": "LayoutModel",
            "_view_count": null,
            "_view_module": "@jupyter-widgets/base",
            "_view_module_version": "1.2.0",
            "_view_name": "LayoutView",
            "align_content": null,
            "align_items": null,
            "align_self": null,
            "border": null,
            "bottom": null,
            "display": null,
            "flex": null,
            "flex_flow": null,
            "grid_area": null,
            "grid_auto_columns": null,
            "grid_auto_flow": null,
            "grid_auto_rows": null,
            "grid_column": null,
            "grid_gap": null,
            "grid_row": null,
            "grid_template_areas": null,
            "grid_template_columns": null,
            "grid_template_rows": null,
            "height": null,
            "justify_content": null,
            "justify_items": null,
            "left": null,
            "margin": null,
            "max_height": null,
            "max_width": null,
            "min_height": null,
            "min_width": null,
            "object_fit": null,
            "object_position": null,
            "order": null,
            "overflow": null,
            "overflow_x": null,
            "overflow_y": null,
            "padding": null,
            "right": null,
            "top": null,
            "visibility": null,
            "width": null
          }
        },
        "a4bbbbcf9f524947a8d43613ff8e97f1": {
          "model_module": "@jupyter-widgets/controls",
          "model_name": "ProgressStyleModel",
          "model_module_version": "1.5.0",
          "state": {
            "_model_module": "@jupyter-widgets/controls",
            "_model_module_version": "1.5.0",
            "_model_name": "ProgressStyleModel",
            "_view_count": null,
            "_view_module": "@jupyter-widgets/base",
            "_view_module_version": "1.2.0",
            "_view_name": "StyleView",
            "bar_color": null,
            "description_width": ""
          }
        },
        "e32313c8f3c64b2688251b55d956fc3f": {
          "model_module": "@jupyter-widgets/base",
          "model_name": "LayoutModel",
          "model_module_version": "1.2.0",
          "state": {
            "_model_module": "@jupyter-widgets/base",
            "_model_module_version": "1.2.0",
            "_model_name": "LayoutModel",
            "_view_count": null,
            "_view_module": "@jupyter-widgets/base",
            "_view_module_version": "1.2.0",
            "_view_name": "LayoutView",
            "align_content": null,
            "align_items": null,
            "align_self": null,
            "border": null,
            "bottom": null,
            "display": null,
            "flex": null,
            "flex_flow": null,
            "grid_area": null,
            "grid_auto_columns": null,
            "grid_auto_flow": null,
            "grid_auto_rows": null,
            "grid_column": null,
            "grid_gap": null,
            "grid_row": null,
            "grid_template_areas": null,
            "grid_template_columns": null,
            "grid_template_rows": null,
            "height": null,
            "justify_content": null,
            "justify_items": null,
            "left": null,
            "margin": null,
            "max_height": null,
            "max_width": null,
            "min_height": null,
            "min_width": null,
            "object_fit": null,
            "object_position": null,
            "order": null,
            "overflow": null,
            "overflow_x": null,
            "overflow_y": null,
            "padding": null,
            "right": null,
            "top": null,
            "visibility": null,
            "width": null
          }
        },
        "bf7fba5929ff41b2ba268d947c86718a": {
          "model_module": "@jupyter-widgets/controls",
          "model_name": "DescriptionStyleModel",
          "model_module_version": "1.5.0",
          "state": {
            "_model_module": "@jupyter-widgets/controls",
            "_model_module_version": "1.5.0",
            "_model_name": "DescriptionStyleModel",
            "_view_count": null,
            "_view_module": "@jupyter-widgets/base",
            "_view_module_version": "1.2.0",
            "_view_name": "StyleView",
            "description_width": ""
          }
        },
        "e814ed3338cb467398a9adcc9b7e2efd": {
          "model_module": "@jupyter-widgets/controls",
          "model_name": "HBoxModel",
          "model_module_version": "1.5.0",
          "state": {
            "_dom_classes": [],
            "_model_module": "@jupyter-widgets/controls",
            "_model_module_version": "1.5.0",
            "_model_name": "HBoxModel",
            "_view_count": null,
            "_view_module": "@jupyter-widgets/controls",
            "_view_module_version": "1.5.0",
            "_view_name": "HBoxView",
            "box_style": "",
            "children": [
              "IPY_MODEL_93d468ad54594e72a015c09a16d8793e",
              "IPY_MODEL_79e740b8d4c24ac19d7a1af896c4065d",
              "IPY_MODEL_ad2103de23c245bdbfca44431e3b2aaa"
            ],
            "layout": "IPY_MODEL_eef8ca0e38d5439089df386a518cd295"
          }
        },
        "93d468ad54594e72a015c09a16d8793e": {
          "model_module": "@jupyter-widgets/controls",
          "model_name": "HTMLModel",
          "model_module_version": "1.5.0",
          "state": {
            "_dom_classes": [],
            "_model_module": "@jupyter-widgets/controls",
            "_model_module_version": "1.5.0",
            "_model_name": "HTMLModel",
            "_view_count": null,
            "_view_module": "@jupyter-widgets/controls",
            "_view_module_version": "1.5.0",
            "_view_name": "HTMLView",
            "description": "",
            "description_tooltip": null,
            "layout": "IPY_MODEL_f98a8d89872f4b2ab650f913244759ef",
            "placeholder": "​",
            "style": "IPY_MODEL_ddd79853488f457398fc2a1913fbc0bc",
            "value": "100%"
          }
        },
        "79e740b8d4c24ac19d7a1af896c4065d": {
          "model_module": "@jupyter-widgets/controls",
          "model_name": "FloatProgressModel",
          "model_module_version": "1.5.0",
          "state": {
            "_dom_classes": [],
            "_model_module": "@jupyter-widgets/controls",
            "_model_module_version": "1.5.0",
            "_model_name": "FloatProgressModel",
            "_view_count": null,
            "_view_module": "@jupyter-widgets/controls",
            "_view_module_version": "1.5.0",
            "_view_name": "ProgressView",
            "bar_style": "success",
            "description": "",
            "description_tooltip": null,
            "layout": "IPY_MODEL_7dd3a326c0c64ff891302ce1ee63f811",
            "max": 7067,
            "min": 0,
            "orientation": "horizontal",
            "style": "IPY_MODEL_bb35d42228f240ee8be390fb8f11e558",
            "value": 7067
          }
        },
        "ad2103de23c245bdbfca44431e3b2aaa": {
          "model_module": "@jupyter-widgets/controls",
          "model_name": "HTMLModel",
          "model_module_version": "1.5.0",
          "state": {
            "_dom_classes": [],
            "_model_module": "@jupyter-widgets/controls",
            "_model_module_version": "1.5.0",
            "_model_name": "HTMLModel",
            "_view_count": null,
            "_view_module": "@jupyter-widgets/controls",
            "_view_module_version": "1.5.0",
            "_view_name": "HTMLView",
            "description": "",
            "description_tooltip": null,
            "layout": "IPY_MODEL_4bc1c41ec4b14c6b8bd7817911d25a59",
            "placeholder": "​",
            "style": "IPY_MODEL_779c813797b24f699f5d2d93f300ac17",
            "value": " 7067/7067 [25:09&lt;00:00,  4.57it/s]"
          }
        },
        "eef8ca0e38d5439089df386a518cd295": {
          "model_module": "@jupyter-widgets/base",
          "model_name": "LayoutModel",
          "model_module_version": "1.2.0",
          "state": {
            "_model_module": "@jupyter-widgets/base",
            "_model_module_version": "1.2.0",
            "_model_name": "LayoutModel",
            "_view_count": null,
            "_view_module": "@jupyter-widgets/base",
            "_view_module_version": "1.2.0",
            "_view_name": "LayoutView",
            "align_content": null,
            "align_items": null,
            "align_self": null,
            "border": null,
            "bottom": null,
            "display": null,
            "flex": null,
            "flex_flow": null,
            "grid_area": null,
            "grid_auto_columns": null,
            "grid_auto_flow": null,
            "grid_auto_rows": null,
            "grid_column": null,
            "grid_gap": null,
            "grid_row": null,
            "grid_template_areas": null,
            "grid_template_columns": null,
            "grid_template_rows": null,
            "height": null,
            "justify_content": null,
            "justify_items": null,
            "left": null,
            "margin": null,
            "max_height": null,
            "max_width": null,
            "min_height": null,
            "min_width": null,
            "object_fit": null,
            "object_position": null,
            "order": null,
            "overflow": null,
            "overflow_x": null,
            "overflow_y": null,
            "padding": null,
            "right": null,
            "top": null,
            "visibility": null,
            "width": null
          }
        },
        "f98a8d89872f4b2ab650f913244759ef": {
          "model_module": "@jupyter-widgets/base",
          "model_name": "LayoutModel",
          "model_module_version": "1.2.0",
          "state": {
            "_model_module": "@jupyter-widgets/base",
            "_model_module_version": "1.2.0",
            "_model_name": "LayoutModel",
            "_view_count": null,
            "_view_module": "@jupyter-widgets/base",
            "_view_module_version": "1.2.0",
            "_view_name": "LayoutView",
            "align_content": null,
            "align_items": null,
            "align_self": null,
            "border": null,
            "bottom": null,
            "display": null,
            "flex": null,
            "flex_flow": null,
            "grid_area": null,
            "grid_auto_columns": null,
            "grid_auto_flow": null,
            "grid_auto_rows": null,
            "grid_column": null,
            "grid_gap": null,
            "grid_row": null,
            "grid_template_areas": null,
            "grid_template_columns": null,
            "grid_template_rows": null,
            "height": null,
            "justify_content": null,
            "justify_items": null,
            "left": null,
            "margin": null,
            "max_height": null,
            "max_width": null,
            "min_height": null,
            "min_width": null,
            "object_fit": null,
            "object_position": null,
            "order": null,
            "overflow": null,
            "overflow_x": null,
            "overflow_y": null,
            "padding": null,
            "right": null,
            "top": null,
            "visibility": null,
            "width": null
          }
        },
        "ddd79853488f457398fc2a1913fbc0bc": {
          "model_module": "@jupyter-widgets/controls",
          "model_name": "DescriptionStyleModel",
          "model_module_version": "1.5.0",
          "state": {
            "_model_module": "@jupyter-widgets/controls",
            "_model_module_version": "1.5.0",
            "_model_name": "DescriptionStyleModel",
            "_view_count": null,
            "_view_module": "@jupyter-widgets/base",
            "_view_module_version": "1.2.0",
            "_view_name": "StyleView",
            "description_width": ""
          }
        },
        "7dd3a326c0c64ff891302ce1ee63f811": {
          "model_module": "@jupyter-widgets/base",
          "model_name": "LayoutModel",
          "model_module_version": "1.2.0",
          "state": {
            "_model_module": "@jupyter-widgets/base",
            "_model_module_version": "1.2.0",
            "_model_name": "LayoutModel",
            "_view_count": null,
            "_view_module": "@jupyter-widgets/base",
            "_view_module_version": "1.2.0",
            "_view_name": "LayoutView",
            "align_content": null,
            "align_items": null,
            "align_self": null,
            "border": null,
            "bottom": null,
            "display": null,
            "flex": null,
            "flex_flow": null,
            "grid_area": null,
            "grid_auto_columns": null,
            "grid_auto_flow": null,
            "grid_auto_rows": null,
            "grid_column": null,
            "grid_gap": null,
            "grid_row": null,
            "grid_template_areas": null,
            "grid_template_columns": null,
            "grid_template_rows": null,
            "height": null,
            "justify_content": null,
            "justify_items": null,
            "left": null,
            "margin": null,
            "max_height": null,
            "max_width": null,
            "min_height": null,
            "min_width": null,
            "object_fit": null,
            "object_position": null,
            "order": null,
            "overflow": null,
            "overflow_x": null,
            "overflow_y": null,
            "padding": null,
            "right": null,
            "top": null,
            "visibility": null,
            "width": null
          }
        },
        "bb35d42228f240ee8be390fb8f11e558": {
          "model_module": "@jupyter-widgets/controls",
          "model_name": "ProgressStyleModel",
          "model_module_version": "1.5.0",
          "state": {
            "_model_module": "@jupyter-widgets/controls",
            "_model_module_version": "1.5.0",
            "_model_name": "ProgressStyleModel",
            "_view_count": null,
            "_view_module": "@jupyter-widgets/base",
            "_view_module_version": "1.2.0",
            "_view_name": "StyleView",
            "bar_color": null,
            "description_width": ""
          }
        },
        "4bc1c41ec4b14c6b8bd7817911d25a59": {
          "model_module": "@jupyter-widgets/base",
          "model_name": "LayoutModel",
          "model_module_version": "1.2.0",
          "state": {
            "_model_module": "@jupyter-widgets/base",
            "_model_module_version": "1.2.0",
            "_model_name": "LayoutModel",
            "_view_count": null,
            "_view_module": "@jupyter-widgets/base",
            "_view_module_version": "1.2.0",
            "_view_name": "LayoutView",
            "align_content": null,
            "align_items": null,
            "align_self": null,
            "border": null,
            "bottom": null,
            "display": null,
            "flex": null,
            "flex_flow": null,
            "grid_area": null,
            "grid_auto_columns": null,
            "grid_auto_flow": null,
            "grid_auto_rows": null,
            "grid_column": null,
            "grid_gap": null,
            "grid_row": null,
            "grid_template_areas": null,
            "grid_template_columns": null,
            "grid_template_rows": null,
            "height": null,
            "justify_content": null,
            "justify_items": null,
            "left": null,
            "margin": null,
            "max_height": null,
            "max_width": null,
            "min_height": null,
            "min_width": null,
            "object_fit": null,
            "object_position": null,
            "order": null,
            "overflow": null,
            "overflow_x": null,
            "overflow_y": null,
            "padding": null,
            "right": null,
            "top": null,
            "visibility": null,
            "width": null
          }
        },
        "779c813797b24f699f5d2d93f300ac17": {
          "model_module": "@jupyter-widgets/controls",
          "model_name": "DescriptionStyleModel",
          "model_module_version": "1.5.0",
          "state": {
            "_model_module": "@jupyter-widgets/controls",
            "_model_module_version": "1.5.0",
            "_model_name": "DescriptionStyleModel",
            "_view_count": null,
            "_view_module": "@jupyter-widgets/base",
            "_view_module_version": "1.2.0",
            "_view_name": "StyleView",
            "description_width": ""
          }
        }
      }
    }
  },
  "nbformat": 4,
  "nbformat_minor": 0
}